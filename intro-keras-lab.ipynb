{
 "cells": [
  {
   "cell_type": "markdown",
   "metadata": {},
   "source": [
    "# Úvod do Kerasu\n",
    "\n",
    "Keras je knihovna pro rychlé prototypování neuronových sítí postavená na knihovnách s automatickým výpočtem gradientů.\n",
    "- Frontend nabízí API pro prototypování, různé typy vrstvev, optimalizačních kritérií, ... Každá vrstva definuje pouze dopředný průchod, který sestává ze standardních atomických operací jako je součet, násobení, umocňování apod.\n",
    "- Backend pak každou z těchto operací implementuje a zároveň definuje jejich zpětný průchod, tj. gradient na jednotlivé operandy.\n",
    "\n",
    "Po navržení grafu neuronové sítě poskládáním vrstev za sebe se model zkompiluje, čímž se definuje celkový dopředný průchod od vstupu až po vrchol, a zároveň zřetězením a optimalizací atomických operací, ze kterých je tvořen, se definuje i zpětný průchod. Takto je docíleno automatického výpočtu gradientů a uživatel proto vůbec nemusí řešit, zda je jeho kód pro zpětný průchod správně, efektivní apod. - knihovna vše zajistí sama.\n",
    "\n",
    "V současné době je výchozím backendem Kerasu knihovna tensorflow, která zároveň umožňuje operace provádět na GPU a tím výpočty výrazně urychlit. Keras však podporuje více backendů, např. Theano, na kterém kdysi začínal."
   ]
  },
  {
   "cell_type": "code",
   "execution_count": null,
   "metadata": {
    "collapsed": true
   },
   "outputs": [],
   "source": [
    "import cv2\n",
    "import numpy as np\n",
    "import matplotlib.pyplot as plt\n",
    "import pickle\n",
    "from IPython.core.debugger import set_trace\n",
    "\n",
    "plt.rcParams['figure.figsize'] = (12., 8.)\n",
    "plt.rcParams['image.interpolation'] = 'nearest'\n",
    "plt.rcParams['image.cmap'] = 'gray'"
   ]
  },
  {
   "cell_type": "markdown",
   "metadata": {},
   "source": [
    "## Načtení dat\n",
    "\n",
    "Keras integruje nejpopulárnější testovací datasety přímo ve svém API. CIFAR-10 je jedním z nich. Načtení dat je tak velmi jednoduché:"
   ]
  },
  {
   "cell_type": "code",
   "execution_count": null,
   "metadata": {},
   "outputs": [],
   "source": [
    "from keras.datasets import cifar10\n",
    "\n",
    "(X_train, y_train), (X_test, y_test) = cifar10.load_data()\n",
    "\n",
    "print(X_train.shape, X_train.dtype)\n",
    "print(y_train.shape, y_train.dtype)\n",
    "print(X_test.shape, X_test.dtype)\n",
    "print(y_test.shape, y_test.dtype)\n",
    "\n",
    "classes = ['airplane', 'automobile', 'bird', 'cat', 'deer', 'dog', 'frog', 'horse', 'ship', 'truck']\n",
    "num_train, num_test = X_train.shape[0], X_test.shape[0]\n",
    "x_dim = X_train.shape[1] * X_train.shape[2] * X_train.shape[3]"
   ]
  },
  {
   "cell_type": "markdown",
   "metadata": {},
   "source": [
    "Rozdílem oproti manuálnímu načítání z minula je, že anotace `y` jsou sloupcové vektory (matice Nx1). Navíc `y_train` je datového typu `uint8`, místo `int` či `int64`."
   ]
  },
  {
   "cell_type": "code",
   "execution_count": null,
   "metadata": {},
   "outputs": [],
   "source": [
    "for i, cls in enumerate(classes):\n",
    "    cls_ids, = np.where(y_train[:, 0] == i)\n",
    "    draw_ids = np.random.choice(cls_ids, size=10)\n",
    "    \n",
    "    for j, k in enumerate(draw_ids):\n",
    "        plt.subplot(10, 10, j * 10 + i + 1)\n",
    "        plt.imshow(X_train[k])\n",
    "        plt.axis('off')\n",
    "        if j == 0:\n",
    "            plt.title(cls)\n",
    "plt.show()"
   ]
  },
  {
   "cell_type": "markdown",
   "metadata": {},
   "source": [
    "### Preprocessing\n",
    "\n",
    "Nejjednodušším způsobem trénování v Kerasu je volání `sklearn`-like funkce `fit`, která chce jako argument celá trénovací data v podobě matice `X` a vektoru labelů `y`. Jelikož dovnitř nevidíme a nemůžeme zajistit volání preprocessingu pro každý vzorek, trénovací data tentokrát předzpracujeme celá data najednou a pouze jednou, nikoliv \"online\" jako minule."
   ]
  },
  {
   "cell_type": "code",
   "execution_count": null,
   "metadata": {
    "collapsed": true
   },
   "outputs": [],
   "source": [
    "def preprocess(rgb_batch, resize=None):\n",
    "    if isinstance(resize, tuple):\n",
    "        rgb_batch = [cv2.resize(rgb, (32, 32)) for rgb in rgb_batch]\n",
    "    X = np.array(rgb_batch, dtype=np.float32) / 255.\n",
    "    m = np.mean(X, axis=(1, 2))\n",
    "    X -= m[:, None, None, :]\n",
    "    return X"
   ]
  },
  {
   "cell_type": "code",
   "execution_count": null,
   "metadata": {
    "collapsed": true
   },
   "outputs": [],
   "source": [
    "X_train_mat = preprocess(X_train).reshape(num_train, x_dim)\n",
    "X_test_mat = preprocess(X_test).reshape(num_test, x_dim)"
   ]
  },
  {
   "cell_type": "markdown",
   "metadata": {},
   "source": [
    "Pro trénování multiclass logistické regrese se softmaxem Keras vyžaduje, aby anotace `y` byla skutečně v one-hot repreztentaci. Převedení lze provést velmi jednoduše pomocnou funkcí:"
   ]
  },
  {
   "cell_type": "code",
   "execution_count": null,
   "metadata": {
    "collapsed": true
   },
   "outputs": [],
   "source": [
    "from keras import utils"
   ]
  },
  {
   "cell_type": "code",
   "execution_count": null,
   "metadata": {},
   "outputs": [],
   "source": [
    "y_train_mat = utils.to_categorical(y_train, len(classes))\n",
    "y_test_mat = utils.to_categorical(y_test, len(classes))\n",
    "\n",
    "# print prvnich 5 labelu\n",
    "print('jako vektor (trida = int):\\n', y_train[:5])\n",
    "print('jako matice (one-hot):\\n', y_train_mat[:5, :])"
   ]
  },
  {
   "cell_type": "markdown",
   "metadata": {},
   "source": [
    "## Keras: sekvenční API\n",
    "\n",
    "Keras nabízí dva způsoby definování modelů: sekvenční a funkcionální. Sekvenční je původní, starší způsob, který je velmi jednoduchý, ale je omezen na dopředné sítě. Pokud např. některá vrstva přijímá vstup z více zdrojů, modeluje se takovýto graf v sekvenčním paradigma velmi komplikovaně. Proto bylo zavedeno funkcionální API, které je jen o něco málo \"ukecanější\", zato mnohem flexibilnější. Ukážeme si obě varianty, přičemž začneme sekvenční."
   ]
  },
  {
   "cell_type": "code",
   "execution_count": null,
   "metadata": {
    "collapsed": true
   },
   "outputs": [],
   "source": [
    "from keras.layers import Dense\n",
    "from keras.models import Sequential"
   ]
  },
  {
   "cell_type": "markdown",
   "metadata": {},
   "source": [
    "Základní třídou reprezentující neuronovou síť je `Sequential`. Lineární (afinní) vrstva se pak v Kerasu nazývá `Dense`. Pro ukázku si zadefinujeme model ekvivalentní našemu `TwoLayerPerceptron` z minulého cvičení."
   ]
  },
  {
   "cell_type": "code",
   "execution_count": null,
   "metadata": {
    "collapsed": true
   },
   "outputs": [],
   "source": [
    "feed_forward = Sequential()\n",
    "feed_forward.add(Dense(200, input_shape=(x_dim,), activation='relu'))\n",
    "feed_forward.add(Dense(len(classes), activation='softmax'))"
   ]
  },
  {
   "cell_type": "markdown",
   "metadata": {},
   "source": [
    "`Dense(200, ...)` znamená, že vrstva bude mít výstup o rozměru 200, přičemž velikost vstupu se převezme z velikosti výstupu předchozí vrstvy. Keras zároveň kombinuje vrstvy s aktivacemi, takže ty pak není nutné zadávat samostatně.\n",
    "\n",
    "Všimněme si také, že poslední vrstva narozdíl od minula obsahuje softmax. Je to kvůli cross entropy lossu, který defaultně v Kerasu vyžaduje, aby výstup byly pravděpodobnosti, avšak lze to jednoduše změnit.\n",
    "\n",
    "Model má následující strukturu:"
   ]
  },
  {
   "cell_type": "code",
   "execution_count": null,
   "metadata": {},
   "outputs": [],
   "source": [
    "feed_forward.summary()"
   ]
  },
  {
   "cell_type": "markdown",
   "metadata": {},
   "source": [
    "## Keras: funkcionální API\n",
    "\n",
    "Vyzkoušíme si také funkcionální API, které se liší pouze ve způsobu definice modelu. Úplně stejný model lze funkcionálním API vytvořit následovně:"
   ]
  },
  {
   "cell_type": "code",
   "execution_count": null,
   "metadata": {
    "collapsed": true
   },
   "outputs": [],
   "source": [
    "from keras.models import Input, Model"
   ]
  },
  {
   "cell_type": "code",
   "execution_count": null,
   "metadata": {
    "collapsed": true
   },
   "outputs": [],
   "source": [
    "x = Input(shape=(x_dim,))\n",
    "h = Dense(200, activation='relu')(x)\n",
    "p = Dense(len(classes), activation='softmax')(h)\n",
    "feed_forward = Model(inputs=x, outputs=p)"
   ]
  },
  {
   "cell_type": "code",
   "execution_count": null,
   "metadata": {},
   "outputs": [],
   "source": [
    "feed_forward.summary()"
   ]
  },
  {
   "cell_type": "markdown",
   "metadata": {},
   "source": [
    "Výhodou tohoto přístupu je mnohem větší flexibilita. Pokud by totiž např. `p` záviselo zároveň na `x`, jak je tomu např. u residuálních sítí, stačilo by zadat `p = Residual(params)(x, h)`. U sekvenčního modelu metoda `add` vždy předpokládá, že vstup do následující vrstvy je výstup té předchozí.\n",
    "\n",
    "Všimněme si, že vrstvy v Kerasu mají přetížený operátor volání `()`, a tedy např. `h = Dense(...)(x)` je prostě zavolání \"funkce\" se vstupem `x`. `x` je ale pouze objekt, který reprezentuje vstup, aniž by ale měl nějaký konkrétní obrázek či vektor přiřazený. Proměnná `h` je tedy pouze *symbolická* reprezentace lineární vrstvy - definice funkce, která očekává vektor o rozměru `x_dim` a vrací vektor s rozměrem `200`. Podobně pak `model` je složeninou jednotlivých vrstev a tedy opět pouze symbolická reprezentace, tj. definice funkce. Skutčené hodnoty výstupu `p` budeme znát až po zavolání s konkrétním vstupem (obrázkem).\n",
    "\n",
    "Zbytek jako kompilace, trénování apod. je úplně stejný, můžeme tedy znovu projet kód nahoře, tentokrát s nově definovaným modelem a dostaneme stejné výsledky."
   ]
  },
  {
   "cell_type": "markdown",
   "metadata": {},
   "source": [
    "Zvolíme metodu optimalizace: prozatím stejnou jako minule, tj. stochastic gradient descent."
   ]
  },
  {
   "cell_type": "code",
   "execution_count": null,
   "metadata": {
    "collapsed": true
   },
   "outputs": [],
   "source": [
    "from keras import optimizers"
   ]
  },
  {
   "cell_type": "code",
   "execution_count": null,
   "metadata": {
    "collapsed": true
   },
   "outputs": [],
   "source": [
    "opt = optimizers.SGD(lr=0.01)"
   ]
  },
  {
   "cell_type": "markdown",
   "metadata": {},
   "source": [
    "Keras funguje na statickém, tzv. define-and-run modelu. To znamená, že nejprve zadefinujeme strukturu modelu, kterou poté zkompilujeme a během trénování se síť nemůže nijak měnit. Tímto krokem se ze sítě stane \"binární blob\", který bere vstup a vrací výstupní pravděpodobnosti."
   ]
  },
  {
   "cell_type": "code",
   "execution_count": null,
   "metadata": {
    "collapsed": true
   },
   "outputs": [],
   "source": [
    "feed_forward.compile(opt, 'categorical_crossentropy', metrics=['accuracy'])"
   ]
  },
  {
   "cell_type": "markdown",
   "metadata": {},
   "source": [
    "### Inicializace\n",
    "\n",
    "Inicializace probíhá při definování vrstvy, v tuto chvíli už mají všechny parametry výchozí hodnoty (váhy náhodné, biasy nuly)"
   ]
  },
  {
   "cell_type": "code",
   "execution_count": null,
   "metadata": {},
   "outputs": [],
   "source": [
    "feed_forward.layers[-1].get_weights()"
   ]
  },
  {
   "cell_type": "markdown",
   "metadata": {},
   "source": [
    "Jediná inicializace tedy bude vynulovat pole, které bude ukládat historii hodnot lossu a accuracy."
   ]
  },
  {
   "cell_type": "code",
   "execution_count": null,
   "metadata": {
    "collapsed": true
   },
   "outputs": [],
   "source": [
    "ffw_history = []"
   ]
  },
  {
   "cell_type": "markdown",
   "metadata": {},
   "source": [
    "### Trénování \n",
    "\n",
    "Jak bylo řečeno, trénování zajišťuje metoda `fit`, které předáme trénovací data a další parametry jako velikost dávky (batch_size), počet epoch, validační data a další."
   ]
  },
  {
   "cell_type": "code",
   "execution_count": null,
   "metadata": {
    "scrolled": true
   },
   "outputs": [],
   "source": [
    "batch_size = 20\n",
    "epochs = 20\n",
    "valid_data = X_test_mat, y_test_mat\n",
    "# opt.lr.assign(0.001)\n",
    "\n",
    "h = feed_forward.fit(X_train_mat, y_train_mat, batch_size=batch_size, epochs=epochs,\n",
    "                     validation_data=valid_data, shuffle=True)\n",
    "ffw_history.append(h)"
   ]
  },
  {
   "cell_type": "code",
   "execution_count": null,
   "metadata": {
    "collapsed": true
   },
   "outputs": [],
   "source": [
    "def plot_keras_history(histories):\n",
    "    colors = plt.rcParams['axes.prop_cycle'].by_key()['color']\n",
    "    \n",
    "    plt.figure(figsize=(10, 3))\n",
    "    for mi, metric in enumerate(('loss', 'acc')):\n",
    "        plt.subplot(1, 2, mi + 1)\n",
    "        for si, subset in enumerate(('', 'val_')):\n",
    "            y = sum([h.history[subset + metric] for h in histories], [])\n",
    "            plt.plot(y, color=colors[si])\n",
    "        plt.xlabel('epoch')\n",
    "        plt.ylabel(metric)\n",
    "    \n",
    "    plt.show()"
   ]
  },
  {
   "cell_type": "code",
   "execution_count": null,
   "metadata": {
    "scrolled": true
   },
   "outputs": [],
   "source": [
    "plot_keras_history(ffw_history)"
   ]
  },
  {
   "cell_type": "markdown",
   "metadata": {},
   "source": [
    "### Validace"
   ]
  },
  {
   "cell_type": "code",
   "execution_count": null,
   "metadata": {},
   "outputs": [],
   "source": [
    "feed_forward.evaluate(x=X_test_mat, y=y_test_mat)"
   ]
  },
  {
   "cell_type": "markdown",
   "metadata": {},
   "source": [
    "### Predikce\n",
    "\n",
    "Pokud máme natrénovaný model, můžeme predikovat třídu neznámého obrázku metodou `predict`."
   ]
  },
  {
   "cell_type": "code",
   "execution_count": null,
   "metadata": {
    "collapsed": true
   },
   "outputs": [],
   "source": [
    "from urllib.request import urlopen\n",
    "from skimage import io"
   ]
  },
  {
   "cell_type": "code",
   "execution_count": null,
   "metadata": {},
   "outputs": [],
   "source": [
    "url = 'https://camo.githubusercontent.com/7e8b7ea66e6dbc2fbcd72bc2a105ed464de1b6b1/687474703a2f2f6661726d352e737461746963666c69636b722e636f6d2f343037302f343731373336333934355f623733616664373861392e6a7067'\n",
    "rgb_test = io.imread(url)\n",
    "plt.imshow(rgb_test)\n",
    "plt.show()"
   ]
  },
  {
   "cell_type": "code",
   "execution_count": null,
   "metadata": {
    "collapsed": true
   },
   "outputs": [],
   "source": [
    "def predict_and_show(rgb_test, model):\n",
    "    if len(rgb_test.shape) < 4:\n",
    "        rgb_test = rgb_test.reshape(1, *rgb_test.shape[-3:])\n",
    "    xt = preprocess(rgb_test, resize=model.input_shape[1:3])\n",
    "    xt = xt.reshape(xt.shape[:1] + model.input_shape[1:])\n",
    "    pt = model.predict(xt).ravel()\n",
    "        \n",
    "    plt.figure(figsize=(5, 5))\n",
    "    plt.imshow(rgb_test[0, ...])\n",
    "    ids = np.argsort(-pt)\n",
    "    for i, ci in enumerate(ids):\n",
    "        plt.gcf().text(1., 0.8 - 0.075 * i, '{}: {:.2f} %'.format(classes[ci], 100. * pt[ci]), fontsize=24)\n",
    "    plt.subplots_adjust()\n",
    "    plt.show()"
   ]
  },
  {
   "cell_type": "code",
   "execution_count": null,
   "metadata": {},
   "outputs": [],
   "source": [
    "predict_and_show(rgb_test, feed_forward)"
   ]
  }
 ],
 "metadata": {
  "kernelspec": {
   "display_name": "Python 3",
   "language": "python",
   "name": "python3"
  },
  "language_info": {
   "codemirror_mode": {
    "name": "ipython",
    "version": 3
   },
   "file_extension": ".py",
   "mimetype": "text/x-python",
   "name": "python",
   "nbconvert_exporter": "python",
   "pygments_lexer": "ipython3",
   "version": "3.6.2"
  }
 },
 "nbformat": 4,
 "nbformat_minor": 2
}
