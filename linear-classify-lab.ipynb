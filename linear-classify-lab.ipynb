{
 "cells": [
  {
   "cell_type": "markdown",
   "metadata": {},
   "source": [
    "# Lineární klasifikace\n",
    "\n",
    "Úkolem cvičení je naprogramovat lineární klasifikátor, který bude rozpoznávat kočky.\n",
    "\n",
    "Budeme potřebovat následující knihovny:\n",
    "- numpy ... známá knihovna pro práci s vektory a maticemi, velmi podobná MATLABu\n",
    "- matplotlib.pyplot ... nabízí vykreslovací funkcionalitu rovněž velmi podobnou MATLABu\n",
    "- pickle ... standardní knihovna pro rychlé ukládání a načítání objektů\n",
    "- tqdm ... vykresluje během výpočtů progress bar"
   ]
  },
  {
   "cell_type": "code",
   "execution_count": 1,
   "metadata": {},
   "outputs": [],
   "source": [
    "import numpy as np\n",
    "import matplotlib.pyplot as plt\n",
    "import pickle\n",
    "import tqdm\n",
    "\n",
    "plt.rcParams['figure.figsize'] = (12., 8.)\n",
    "plt.rcParams['image.interpolation'] = 'nearest'\n",
    "plt.rcParams['image.cmap'] = 'gray'"
   ]
  },
  {
   "cell_type": "markdown",
   "metadata": {},
   "source": [
    "## numpy vs MATLAB"
   ]
  },
  {
   "cell_type": "markdown",
   "metadata": {},
   "source": [
    "Všechny matice, vektory, i vícerozměrné tensory v numpy jsou typu `numpy.ndarray` (*n*-dimenzionální pole). Incializují se podobně jako v MATLABu:"
   ]
  },
  {
   "cell_type": "code",
   "execution_count": 2,
   "metadata": {},
   "outputs": [
    {
     "data": {
      "text/plain": [
       "array([0., 0., 0.])"
      ]
     },
     "execution_count": 2,
     "metadata": {},
     "output_type": "execute_result"
    }
   ],
   "source": [
    "# vektor 3 nul, vychozi dat. typ je double (float64)\n",
    "np.zeros(3)"
   ]
  },
  {
   "cell_type": "code",
   "execution_count": 3,
   "metadata": {},
   "outputs": [
    {
     "data": {
      "text/plain": [
       "array([1, 1, 1, 1], dtype=uint8)"
      ]
     },
     "execution_count": 3,
     "metadata": {},
     "output_type": "execute_result"
    }
   ],
   "source": [
    "# vektor 4 jednicek a typu 8-bit integer\n",
    "np.ones((4,), dtype=np.uint8)"
   ]
  },
  {
   "cell_type": "markdown",
   "metadata": {},
   "source": [
    "Numpy se MATLABu velice podobá, ale několik rozdílů najdeme. Už v předcházejícím příkladu se chová jinak. V MATLABu by totiž příkaz `zeros(3)` namísto vektoru 3 nul vytvořil 3x3 *matici* nul."
   ]
  },
  {
   "cell_type": "markdown",
   "metadata": {},
   "source": [
    "### Manuální inicializace\n",
    "\n",
    "Manuální inicializace se provádí příkazem `np.array`. Funkce převezme standardní pythonovské pole a automaticky ho převede na `np.ndarray`.\n",
    "\n",
    "*Pozn.*: V jupyter notebooku se při spuštění buňky (cell) vždy vypíše do konzole výsledek posledního příkazu. V MATLABu se takto vypisují všechny příkazy, které nekončí středníkem. Středník se používá steně i zde, ovšem význam má pouze u posledního příkazu."
   ]
  },
  {
   "cell_type": "code",
   "execution_count": 4,
   "metadata": {},
   "outputs": [
    {
     "data": {
      "text/plain": [
       "array([7, 6, 1, 5, 3, 4, 2, 1, 2, 8, 9])"
      ]
     },
     "execution_count": 4,
     "metadata": {},
     "output_type": "execute_result"
    }
   ],
   "source": [
    "a = np.array([7, 6, 1, 5, 3, 4, 2, 1, 2, 8, 9])\n",
    "a"
   ]
  },
  {
   "cell_type": "markdown",
   "metadata": {},
   "source": [
    "### Přístup k prvkům\n",
    "\n",
    "Dalším zásadním rozdílem oproti MATLABu je, že **numpy indexuje od nuly**, zatímco MATLAB od jedničky."
   ]
  },
  {
   "cell_type": "code",
   "execution_count": 5,
   "metadata": {},
   "outputs": [
    {
     "data": {
      "text/plain": [
       "(7, 6, 1)"
      ]
     },
     "execution_count": 5,
     "metadata": {},
     "output_type": "execute_result"
    }
   ],
   "source": [
    "a[0], a[1], a[2]"
   ]
  },
  {
   "cell_type": "markdown",
   "metadata": {},
   "source": [
    "Tzv. slicing, aneb přístup k více prvkům najednou:"
   ]
  },
  {
   "cell_type": "code",
   "execution_count": 6,
   "metadata": {},
   "outputs": [
    {
     "data": {
      "text/plain": [
       "array([7, 6, 1])"
      ]
     },
     "execution_count": 6,
     "metadata": {},
     "output_type": "execute_result"
    }
   ],
   "source": [
    "# od zacatku do 3; posledni NENI zahrnut\n",
    "a[:3]"
   ]
  },
  {
   "cell_type": "code",
   "execution_count": 7,
   "metadata": {},
   "outputs": [
    {
     "data": {
      "text/plain": [
       "array([1, 2, 8, 9])"
      ]
     },
     "execution_count": 7,
     "metadata": {},
     "output_type": "execute_result"
    }
   ],
   "source": [
    "# od 7 (tedy od 8. prvku) dale\n",
    "a[7:]"
   ]
  },
  {
   "cell_type": "code",
   "execution_count": 8,
   "metadata": {},
   "outputs": [
    {
     "data": {
      "text/plain": [
       "array([1, 4, 2])"
      ]
     },
     "execution_count": 8,
     "metadata": {},
     "output_type": "execute_result"
    }
   ],
   "source": [
    "# od 2 do predposledniho po 3\n",
    "a[2:-1:3]"
   ]
  },
  {
   "cell_type": "code",
   "execution_count": 9,
   "metadata": {},
   "outputs": [
    {
     "data": {
      "text/plain": [
       "array([9, 8, 2, 1, 2, 4, 3, 5, 1, 6, 7])"
      ]
     },
     "execution_count": 9,
     "metadata": {},
     "output_type": "execute_result"
    }
   ],
   "source": [
    "# vsechny, ale pozpatku\n",
    "a[::-1]"
   ]
  },
  {
   "cell_type": "code",
   "execution_count": 10,
   "metadata": {},
   "outputs": [
    {
     "data": {
      "text/plain": [
       "array([1, 5, 7, 2, 9])"
      ]
     },
     "execution_count": 10,
     "metadata": {},
     "output_type": "execute_result"
    }
   ],
   "source": [
    "# manualni vyber\n",
    "a[[2, 3, 0, 6, -1]]"
   ]
  },
  {
   "cell_type": "markdown",
   "metadata": {},
   "source": [
    "### Matice\n",
    "\n",
    "Dalším, zásadnějším rozdílem mezi MATLABem a numpy je, že **v numpy jsou vektory jednorozměrné pole**, zatímco v MATLABu jsou to matice s jedním řádkem či sloupcem. Nelze tedy indexovat dvěma souřadnicemi jako v MATLABu:"
   ]
  },
  {
   "cell_type": "code",
   "execution_count": 11,
   "metadata": {},
   "outputs": [
    {
     "ename": "IndexError",
     "evalue": "too many indices for array",
     "output_type": "error",
     "traceback": [
      "\u001b[1;31m---------------------------------------------------------------------------\u001b[0m",
      "\u001b[1;31mIndexError\u001b[0m                                Traceback (most recent call last)",
      "\u001b[1;32m<ipython-input-11-67f04df8cd08>\u001b[0m in \u001b[0;36m<module>\u001b[1;34m()\u001b[0m\n\u001b[1;32m----> 1\u001b[1;33m \u001b[0ma\u001b[0m\u001b[1;33m[\u001b[0m\u001b[1;36m0\u001b[0m\u001b[1;33m,\u001b[0m \u001b[1;36m2\u001b[0m\u001b[1;33m]\u001b[0m\u001b[1;33m\u001b[0m\u001b[0m\n\u001b[0m",
      "\u001b[1;31mIndexError\u001b[0m: too many indices for array"
     ]
    }
   ],
   "source": [
    "a[0, 2]"
   ]
  },
  {
   "cell_type": "markdown",
   "metadata": {},
   "source": [
    "**Matice** se inicalizují obdobně. Namísto jednoho čísla udávajícího počet prvků zadáme počet řádků a sloupců jako pythonovskou n-tici (`tuple`)."
   ]
  },
  {
   "cell_type": "code",
   "execution_count": 12,
   "metadata": {},
   "outputs": [
    {
     "data": {
      "text/plain": [
       "array([[0., 0.],\n",
       "       [0., 0.],\n",
       "       [0., 0.]])"
      ]
     },
     "execution_count": 12,
     "metadata": {},
     "output_type": "execute_result"
    }
   ],
   "source": [
    "# matice s 3 radky a 2 sloupci na nuly:\n",
    "np.zeros((3, 2))"
   ]
  },
  {
   "cell_type": "markdown",
   "metadata": {},
   "source": [
    "Při manuální iniclizaci se do funkce `np.array` zadává pole polí:"
   ]
  },
  {
   "cell_type": "code",
   "execution_count": 13,
   "metadata": {},
   "outputs": [
    {
     "name": "stdout",
     "output_type": "stream",
     "text": [
      "(2, 3) int32\n",
      "[[1 4 2]\n",
      " [5 3 6]]\n"
     ]
    }
   ],
   "source": [
    "A = np.array([\n",
    "    [1, 4, 2],\n",
    "    [5, 3, 6],\n",
    "])\n",
    "\n",
    "print(A.shape, A.dtype)\n",
    "print(A)"
   ]
  },
  {
   "cell_type": "markdown",
   "metadata": {},
   "source": [
    "Inicializace matice s 3 radky a 2 sloupci na náhodné hodnoty. Pozn.: všimněme si drobné nekonzistence v numpy, kdy funkce jako zeros či ones přebírají rozměry jako `tuple`, zatímco `rand` a `randn` postupně jako argumenty funkce."
   ]
  },
  {
   "cell_type": "markdown",
   "metadata": {},
   "source": [
    "Podobně jako v MATLABu **první souřadnice je vždy řádek, druhý sloupec**."
   ]
  },
  {
   "cell_type": "code",
   "execution_count": 14,
   "metadata": {},
   "outputs": [
    {
     "data": {
      "text/plain": [
       "6"
      ]
     },
     "execution_count": 14,
     "metadata": {},
     "output_type": "execute_result"
    }
   ],
   "source": [
    "# druhy radek, treti sloupec\n",
    "A[1, 2]"
   ]
  },
  {
   "cell_type": "markdown",
   "metadata": {},
   "source": [
    "V Pythonu lze indexovat i od konce tak, že použijeme záporné znaménko. Numpy tuto funkcionalitu také implementuje."
   ]
  },
  {
   "cell_type": "code",
   "execution_count": 15,
   "metadata": {},
   "outputs": [
    {
     "data": {
      "text/plain": [
       "3"
      ]
     },
     "execution_count": 15,
     "metadata": {},
     "output_type": "execute_result"
    }
   ],
   "source": [
    "A[-1, 1]"
   ]
  },
  {
   "cell_type": "code",
   "execution_count": 16,
   "metadata": {},
   "outputs": [
    {
     "data": {
      "text/plain": [
       "array([[-0.06996666, -0.29425928],\n",
       "       [ 0.22504892,  1.18835347],\n",
       "       [-0.60878098, -0.07861084]])"
      ]
     },
     "execution_count": 16,
     "metadata": {},
     "output_type": "execute_result"
    }
   ],
   "source": [
    "# nahodne hodnoty z gaussovskeho (normalniho) rozlozeni\n",
    "R = np.random.randn(3, 2)\n",
    "R"
   ]
  },
  {
   "cell_type": "code",
   "execution_count": 17,
   "metadata": {
    "scrolled": true
   },
   "outputs": [
    {
     "data": {
      "text/plain": [
       "array([[0.23500069, 0.4597572 ],\n",
       "       [0.02728943, 0.59908453],\n",
       "       [0.79760296, 0.26678505]])"
      ]
     },
     "execution_count": 17,
     "metadata": {},
     "output_type": "execute_result"
    }
   ],
   "source": [
    "# nahodne hodnoty z rovnomerneho rozlozeni (na konci neni n) 0 ... 1\n",
    "np.random.rand(3, 2)"
   ]
  },
  {
   "cell_type": "markdown",
   "metadata": {},
   "source": [
    "### náhled vs kopie: pozor!\n",
    "\n",
    "V numpy se při indexování defaultně vrací *náhled* do pole, nikoliv kopie. Pokud tedy něco změníte, změna se projeví i v původním poli. Např.:"
   ]
  },
  {
   "cell_type": "code",
   "execution_count": 18,
   "metadata": {},
   "outputs": [
    {
     "name": "stdout",
     "output_type": "stream",
     "text": [
      "[[-0.06996666 10.        ]\n",
      " [ 0.22504892  1.18835347]\n",
      " [-0.60878098 -0.07861084]]\n"
     ]
    }
   ],
   "source": [
    "row = R[0, :]\n",
    "row[-1] = 10.\n",
    "print(R)"
   ]
  },
  {
   "cell_type": "markdown",
   "metadata": {},
   "source": [
    "V následujícím se ale toto nestane:"
   ]
  },
  {
   "cell_type": "code",
   "execution_count": 19,
   "metadata": {
    "scrolled": false
   },
   "outputs": [
    {
     "name": "stdout",
     "output_type": "stream",
     "text": [
      "[[-0.06996666 10.        ]\n",
      " [ 0.22504892  1.18835347]\n",
      " [-0.60878098 -0.07861084]]\n"
     ]
    }
   ],
   "source": [
    "row = R[0, :]\n",
    "row = np.random.randn(2)\n",
    "print(R)"
   ]
  },
  {
   "cell_type": "markdown",
   "metadata": {},
   "source": [
    "První řádek se nezmění, protože proměnné `r`, která je jako všechny proměnné v Pythonu pouhou referencí, byl prostě jen přiřazen nový objekt, který bude cílem odkazu. S původními hodnotami se tedy nijak nemanipulovalo. Přepisu celého řádku dosáhneme např. takto:"
   ]
  },
  {
   "cell_type": "code",
   "execution_count": 20,
   "metadata": {},
   "outputs": [
    {
     "name": "stdout",
     "output_type": "stream",
     "text": [
      "[[ 1.00763878 -0.55607255]\n",
      " [ 0.22504892  1.18835347]\n",
      " [-0.60878098 -0.07861084]]\n"
     ]
    }
   ],
   "source": [
    "row = R[0, :]\n",
    "row[:] = np.random.randn(2)\n",
    "# R[0, :] = np.random.randn(2)\n",
    "print(R)"
   ]
  },
  {
   "cell_type": "markdown",
   "metadata": {},
   "source": [
    "## Data"
   ]
  },
  {
   "cell_type": "markdown",
   "metadata": {},
   "source": [
    "Způsob načítání dat kompletně závisí na způsobu, jakým byla uložena. Zde použijeme populární dataset CIFAR-10, který často slouží jako základní benchmark pro porovnání přínosu nových algoritmů vůči stávajícím. Úkolem je klasifikace obrázků do jedné z 10 tříd."
   ]
  },
  {
   "cell_type": "code",
   "execution_count": 21,
   "metadata": {},
   "outputs": [],
   "source": [
    "# CIFAR-10 obsahuje nasledujici tridy\n",
    "classes = ['airplane', 'automobile', 'bird', 'cat', 'deer', 'dog', 'frog', 'horse', 'ship', 'truck']\n",
    "\n",
    "# training set obsahuje celkem 50000 RGB obrazku o rozmerech 32x32 pixelu\n",
    "X_all = np.zeros((50000, 32, 32, 3), dtype=np.uint8)\n",
    "y_all = np.zeros(50000, dtype=np.int32)\n",
    "\n",
    "# dataset je rozdelen do 6 souboru, z nichz 5 je trenovaci mnozina\n",
    "for i in range(5):\n",
    "    batch_file = 'data/cifar-10-batches-py/data_batch_' + str(i + 1)\n",
    "    with open(batch_file, 'rb') as f:\n",
    "        # CIFAR-10 je dostupny pro Python 2.7 ve formatu `pickle`, pri jeho nacitani\n",
    "        # proto musime explicitne specifikovat typ kodovani\n",
    "        data = pickle.load(f, encoding='latin1')\n",
    "        X_all[10000 * i:10000 * (i+1)] = data['data'].reshape(-1, 3, 32, 32).transpose(0, 2, 3, 1)\n",
    "        y_all[10000 * i:10000 * (i+1)] = data['labels']\n",
    "\n",
    "# z training setu ukrojime cast na validaci\n",
    "num_train, num_valid = 40000, 10000\n",
    "X_train, y_train = X_all[:num_train], y_all[:num_train]\n",
    "X_valid, y_valid = X_all[num_train:], y_all[num_train:]\n",
    "\n",
    "x_dim = X_train.shape[1] * X_train.shape[2] * X_train.shape[3]"
   ]
  },
  {
   "cell_type": "code",
   "execution_count": 22,
   "metadata": {},
   "outputs": [
    {
     "name": "stdout",
     "output_type": "stream",
     "text": [
      "<class 'numpy.ndarray'> (40000, 32, 32, 3) uint8\n",
      "<class 'numpy.ndarray'> (40000,) int32\n",
      "[6 9 9 4 1 1 2 7 8 3]\n"
     ]
    }
   ],
   "source": [
    "print(type(X_train), X_train.shape, X_train.dtype)\n",
    "print(type(y_train), y_train.shape, y_train.dtype)\n",
    "print(y_train[:10])"
   ]
  },
  {
   "cell_type": "markdown",
   "metadata": {},
   "source": [
    "Pro každou třídu vykreslíme 10 příkladů, abychom viděli, jak data vlastně vypadají. Použijeme k tomu knihovnu `matplotlib.pyplot`."
   ]
  },
  {
   "cell_type": "code",
   "execution_count": 23,
   "metadata": {
    "scrolled": false
   },
   "outputs": [
    {
     "data": {
      "image/png": "[encoded data removed]",
      "text/plain": [
       "<matplotlib.figure.Figure at 0x20fa3c65208>"
      ]
     },
     "metadata": {},
     "output_type": "display_data"
    }
   ],
   "source": [
    "for i, cls in enumerate(classes):\n",
    "    # chceme pouze obrazky aktualni tridy a z nich nahodne vybereme 10\n",
    "    cls_ids, = np.where(y_train == i)\n",
    "    draw_ids = np.random.choice(cls_ids, size=10)\n",
    "    \n",
    "    # pyplot podobne jako MATLAB nabizi funkci subplot pro vykresleni vice grafu do jednoho okna\n",
    "    for j, k in enumerate(draw_ids):\n",
    "        # vykresli 10x10 obrazku, poradi je po radcich, ovsem my budeme vykreslovat po sloupcich,\n",
    "        # tj. kazdy sloupec bude obsahovat 10 prikladu jedne ze trid\n",
    "        plt.subplot(10, 10, j * 10 + i + 1)\n",
    "        \n",
    "        # vyresli obrazek\n",
    "        plt.imshow(X_train[k])\n",
    "        \n",
    "        # nevykresluj popisky os\n",
    "        plt.axis('off')\n",
    "        \n",
    "        # v prvnim radku pridame nazev grafu (obrazku)\n",
    "        if j == 0:\n",
    "            plt.title(cls)\n",
    "plt.show()"
   ]
  },
  {
   "cell_type": "markdown",
   "metadata": {},
   "source": [
    "## Lineární klasifikátor\n",
    "\n",
    "Úkolem cvičení je naprogramovat lineární klasifikátor obrázků. V přednášce jsme si ukázali dvě populární volby:\n",
    "1. logistická regrese (softmax)\n",
    "2. support vector machine (svm)\n",
    "\n",
    "Vyzkoušíme si oba. Začneme první variantou."
   ]
  },
  {
   "cell_type": "markdown",
   "metadata": {},
   "source": [
    "Lineární klasifikace je založena na skalárních součinech vektorů V numpy se jak pro skalární součin vektorů i násobení matic používá stejná funkce: `np.dot`. Např. násobení dvou vektorů:\n",
    "Pozn.: do většiny numpy funkcí můžeme předat i standardní pythonovské pole a dojde k automatické konverzi."
   ]
  },
  {
   "cell_type": "code",
   "execution_count": 24,
   "metadata": {},
   "outputs": [
    {
     "data": {
      "text/plain": [
       "23"
      ]
     },
     "execution_count": 24,
     "metadata": {},
     "output_type": "execute_result"
    }
   ],
   "source": [
    "# operace 2*5 + 3*3 + 4*1\n",
    "np.dot([2, 3, 4], [5, 3, 1])"
   ]
  },
  {
   "cell_type": "markdown",
   "metadata": {},
   "source": [
    "V případě matice se skalární součin s vektorem napravo provede pro každý řádek, což odpovídá definici násobení matice a vektoru, kde vektor je sloupcový. Toto opakování stejné operace pro více řádků či sloupců se nazývá broadcasting a je stěžejní součástí knihovny numpy a obecně psaní efektivního vektorizovaného kódu."
   ]
  },
  {
   "cell_type": "code",
   "execution_count": 25,
   "metadata": {},
   "outputs": [
    {
     "data": {
      "text/plain": [
       "array([ 23, -14])"
      ]
     },
     "execution_count": 25,
     "metadata": {},
     "output_type": "execute_result"
    }
   ],
   "source": [
    "# dva radky:\n",
    "# 2*5 + 3*3 + 4*1\n",
    "# (-1)*5 + (-2)*3 + (-3)*1\n",
    "np.dot([[2, 3, 4], [-1, -2, -3]], [5, 3, 1])"
   ]
  },
  {
   "cell_type": "markdown",
   "metadata": {},
   "source": [
    "Nakonec matice x matice. Všimněme si, že musí sedět rozměry tak, aby šlo matice násobit! Jelikož je druhý operand dvourozměrný, musí být původní vektor (5, 3, 1) zapsán skutečně jako sloupec. Druhý sloupec pak je (-4, -2, 0)."
   ]
  },
  {
   "cell_type": "code",
   "execution_count": 26,
   "metadata": {},
   "outputs": [
    {
     "data": {
      "text/plain": [
       "array([[ 23, -14],\n",
       "       [-14,   8]])"
      ]
     },
     "execution_count": 26,
     "metadata": {},
     "output_type": "execute_result"
    }
   ],
   "source": [
    "np.dot([[2, 3, 4], [-1, -2, -3]], [[5, -4], [3, -2], [1, 0]])"
   ]
  },
  {
   "cell_type": "markdown",
   "metadata": {},
   "source": [
    "## Pomocné funkce\n",
    "\n",
    "Pro trénování a validaci se bude hodit zabalit některé části kódu do funkcí, protože se často opakují. Zadefinujeme si proto následující funkce."
   ]
  },
  {
   "cell_type": "code",
   "execution_count": 27,
   "metadata": {},
   "outputs": [],
   "source": [
    "def preprocess(rgb):\n",
    "    \"\"\"\n",
    "    funkce prevede na datovy typ np.float, znormalizuje do 0...1 rozsahu a odecte prumernou hodnotu\n",
    "    \"\"\"\n",
    "    x = rgb / 255.\n",
    "    x -= x.mean(axis=(0, 1))\n",
    "    return x"
   ]
  },
  {
   "cell_type": "markdown",
   "metadata": {},
   "source": [
    "## Softmax"
   ]
  },
  {
   "cell_type": "markdown",
   "metadata": {},
   "source": [
    "### Inicializace\n",
    "\n",
    "- váhy `W` inicializujeme náhodně\n",
    "- bias na nulu\n",
    "\n",
    "Obrázky budeme považovat za vektory, tzn. že za sebe seřadíme RGB hodnoty z řádků a sloupců do jednoho pole. Tím se z trénovacích dat efektivně stane matice s rozměry `počet_obr × (počet_pixelů * 3)`."
   ]
  },
  {
   "cell_type": "markdown",
   "metadata": {},
   "source": [
    "<font color=red>**TODO: SAMOSTATNĚ**</font>"
   ]
  },
  {
   "cell_type": "code",
   "execution_count": 156,
   "metadata": {},
   "outputs": [],
   "source": [
    "W_softmax = np.random.rand(32*3*32,10)\n",
    "b_softmax = np.zeros(10)"
   ]
  },
  {
   "cell_type": "markdown",
   "metadata": {},
   "source": [
    "### Trénování\n",
    "\n",
    "Připomeňme, že logistická regrese je jednoduchý lineární klasifikátor s parametry:\n",
    "\n",
    "- $W$ ... váhová matice o rozměrech `rozměr_vstupu x počet_tříd`\n",
    "- $b$ ... bias vektor o rozměru `počet_tříd`\n",
    "\n",
    "Pokud máme na vstupu obrázek $x$, pravděpodobnost, že na něm je objekt třídy $c$ je predikována jako\n",
    "$$p_c = \\frac{\\exp{w_c^\\top x}}{\\sum_{i=0}^{C-1}\\exp{w_i^\\top x}}$$\n",
    "kde $w_c$ je $c$-tý řádek matice $W$ a $C$ je celkový počet tříd.\n",
    "\n",
    "Zda byla predikce dobrá nebo ne určí kriteriální funkce (loss), tzv. cross entropy, která ve speciálním případě klasifikace má tvar\n",
    "$$L = -\\log p_y$$\n",
    "kde $y$ index třídy, do které obrázek ve skutečnosti patří.\n",
    "\n",
    "Vzorec pro gradient na $c$-tý řádek váhové *matice* je\n",
    "$$\\frac{\\partial L}{\\partial w_c} = \\left(p_c - \\boldsymbol{1}(c=y)\\right)x + 2\\lambda w_c$$\n",
    "a $c$-tý prvek bias *vektoru*\n",
    "$$\\frac{\\partial L}{\\partial b_c} = p_c - \\boldsymbol{1}(c=y)$$"
   ]
  },
  {
   "cell_type": "markdown",
   "metadata": {},
   "source": [
    "<font color=red>**TODO: SAMOSTATNĚ**</font>"
   ]
  },
  {
   "cell_type": "code",
   "execution_count": 164,
   "metadata": {
    "scrolled": true
   },
   "outputs": [
    {
     "data": {
      "application/vnd.jupyter.widget-view+json": {
       "model_id": "d28a55a14652466c9b4d8ca06cb9a7f5",
       "version_major": 2,
       "version_minor": 0
      },
      "text/html": [
       "<p>Failed to display Jupyter Widget of type <code>HBox</code>.</p>\n",
       "<p>\n",
       "  If you're reading this message in the Jupyter Notebook or JupyterLab Notebook, it may mean\n",
       "  that the widgets JavaScript is still loading. If this message persists, it\n",
       "  likely means that the widgets JavaScript library is either not installed or\n",
       "  not enabled. See the <a href=\"https://ipywidgets.readthedocs.io/en/stable/user_install.html\">Jupyter\n",
       "  Widgets Documentation</a> for setup instructions.\n",
       "</p>\n",
       "<p>\n",
       "  If you're reading this message in another frontend (for example, a static\n",
       "  rendering on GitHub or <a href=\"https://nbviewer.jupyter.org/\">NBViewer</a>),\n",
       "  it may mean that your frontend doesn't currently support widgets.\n",
       "</p>\n"
      ],
      "text/plain": [
       "HBox(children=(IntProgress(value=0, max=40000), HTML(value='')))"
      ]
     },
     "metadata": {},
     "output_type": "display_data"
    },
    {
     "name": "stdout",
     "output_type": "stream",
     "text": [
      "\n",
      "train accuracy: 11844/40000 = 29.6 %\n",
      "2.071693685165244 [0.02524335 0.06072945 0.01856342 0.01995672 0.01504364 0.03054884\n",
      " 0.02279617 0.03470703 0.03368438 0.05003074]\n",
      "Wall time: 4min 25s\n"
     ]
    }
   ],
   "source": [
    "%%time\n",
    "\n",
    "learning_rate = 0.0001\n",
    "num_iters = num_train\n",
    "l2_decay = 0.2\n",
    "\n",
    "num_correct = 0\n",
    "loss = 0\n",
    "l2_val = 0\n",
    "\n",
    "\n",
    "for n in tqdm.tnrange(num_iters):\n",
    "    # obrazek vybereme nahodne\n",
    "    idx = np.random.choice(num_train)\n",
    "    \n",
    "    # ziskame data\n",
    "    xn = preprocess(X_train[idx]).ravel()\n",
    "    yn = y_train[idx]\n",
    "    \n",
    "    # dopredny pruchod: linearni skore, sigmoida a loss\n",
    "    score = np.dot(W_softmax.T,xn) + b_softmax\n",
    "    prob = np.exp(score)/np.sum(np.exp(score))\n",
    "    loss += -np.log(prob[yn])\n",
    "    \n",
    "    # l2_val += sum(np.power(W_softmax,2))\n",
    "    # gradient na vahy a bias\n",
    "    dscore = prob.copy()\n",
    "    dscore[yn] -= 1\n",
    "    \n",
    "    dW = np.dot(xn[:, None], dscore[None, :]) + 2. * l2_decay * W_softmax \n",
    "    db = dscore\n",
    " \n",
    "    # update parametru\n",
    "    W_softmax -= learning_rate * dW\n",
    "    b_softmax -= learning_rate * db\n",
    "    \n",
    "    # vyhodnoceni uspesnosti\n",
    "\n",
    "    if yn == np.argmax(prob):\n",
    "        num_correct += 1\n",
    "        \n",
    "print('train accuracy: {}/{} = {:.1f} %'.format(num_correct, num_iters, 100. * num_correct / num_iters))\n",
    "print(loss / num_iters, l2_val / num_iters)"
   ]
  },
  {
   "cell_type": "code",
   "execution_count": null,
   "metadata": {},
   "outputs": [],
   "source": []
  },
  {
   "cell_type": "markdown",
   "metadata": {},
   "source": [
    "### Validace\n",
    "\n",
    "\n",
    "Natrénovaný klasifikátor ověříme na validační (development) množině. Ideálně bychom měli dosáhnout stejné úspěšnosti jako na trénovací sadě, pravděpodobně tomu tak ale nebude. Proč?"
   ]
  },
  {
   "cell_type": "markdown",
   "metadata": {},
   "source": [
    "<font color=red>**TODO: SAMOSTATNĚ**</font>"
   ]
  },
  {
   "cell_type": "code",
   "execution_count": 165,
   "metadata": {},
   "outputs": [
    {
     "data": {
      "application/vnd.jupyter.widget-view+json": {
       "model_id": "17202fc979f14bcba4d0b74c0c19f0d1",
       "version_major": 2,
       "version_minor": 0
      },
      "text/html": [
       "<p>Failed to display Jupyter Widget of type <code>HBox</code>.</p>\n",
       "<p>\n",
       "  If you're reading this message in the Jupyter Notebook or JupyterLab Notebook, it may mean\n",
       "  that the widgets JavaScript is still loading. If this message persists, it\n",
       "  likely means that the widgets JavaScript library is either not installed or\n",
       "  not enabled. See the <a href=\"https://ipywidgets.readthedocs.io/en/stable/user_install.html\">Jupyter\n",
       "  Widgets Documentation</a> for setup instructions.\n",
       "</p>\n",
       "<p>\n",
       "  If you're reading this message in another frontend (for example, a static\n",
       "  rendering on GitHub or <a href=\"https://nbviewer.jupyter.org/\">NBViewer</a>),\n",
       "  it may mean that your frontend doesn't currently support widgets.\n",
       "</p>\n"
      ],
      "text/plain": [
       "HBox(children=(IntProgress(value=0, max=10000), HTML(value='')))"
      ]
     },
     "metadata": {},
     "output_type": "display_data"
    },
    {
     "name": "stdout",
     "output_type": "stream",
     "text": [
      "\n",
      "val accuracy: 954/10000 = 9.5 %\n",
      "Wall time: 1.99 s\n"
     ]
    }
   ],
   "source": [
    "%%time\n",
    "\n",
    "num_correct = 0\n",
    "\n",
    "for n in tqdm.tnrange(num_valid):   \n",
    "    idx = np.random.choice(num_valid)\n",
    "    \n",
    "    # ziskame data\n",
    "    xn = preprocess(X_valid[idx]).ravel()\n",
    "    yn = y_valid[idx]\n",
    "    \n",
    "    # dopredny pruchod: linearni skore, sigmoida a loss\n",
    "    score = np.dot(xn,W_softmax) + b_softmax\n",
    "    \n",
    "    # vyhodnoceni uspesnosti\n",
    "    if yn == np.argmax(prob):\n",
    "        num_correct += 1\n",
    "\n",
    "print('val accuracy: {}/{} = {:.1f} %'.format(num_correct, num_valid, 100. * num_correct / num_valid))"
   ]
  },
  {
   "cell_type": "markdown",
   "metadata": {},
   "source": [
    "## Weston-Watkins SVM\n",
    "\n",
    "Jak jsme si ukázali v přednášce, SVM je softmaxu velmi podobné. Z pohledu neuronových sítí se liší pouze způsobem výpočtu lossu - místo cross entropy použijeme hinge loss definovaný jako\n",
    "$$L = \\sum_{c\\ne y}\\max(0, 1 + s_c - s_y)$$\n",
    "kde $s$ je vektor lineárních skóre $s=Wx + b$.\n",
    "\n",
    "Gradient na váhy pak je\n",
    "$$\\frac{\\partial L}{\\partial w_y} = -\\sum_{c\\ne y}\\boldsymbol{1}(1 + s_c - s_y > 0)x$$\n",
    "$$\\frac{\\partial L}{\\partial w_{c\\ne y}} = \\boldsymbol{1}(1 + s_c - s_y > 0)x$$\n",
    "a pro biasy podobně, pouze bez $x$."
   ]
  },
  {
   "cell_type": "markdown",
   "metadata": {},
   "source": [
    "### Inicializace"
   ]
  },
  {
   "cell_type": "markdown",
   "metadata": {},
   "source": [
    "<font color=red>**TODO: SAMOSTATNĚ**</font>"
   ]
  },
  {
   "cell_type": "code",
   "execution_count": null,
   "metadata": {
    "collapsed": true
   },
   "outputs": [],
   "source": [
    "W_svm = np.random.rand(32*3*32,10)\n",
    "b_svm = np.zeros(10)"
   ]
  },
  {
   "cell_type": "markdown",
   "metadata": {},
   "source": [
    "### Trénování"
   ]
  },
  {
   "cell_type": "markdown",
   "metadata": {},
   "source": [
    "<font color=red>**TODO: SAMOSTATNĚ**</font>"
   ]
  },
  {
   "cell_type": "code",
   "execution_count": null,
   "metadata": {},
   "outputs": [],
   "source": [
    "%%time\n",
    "\n",
    "learning_rate = 0.001\n",
    "num_iters = 40000\n",
    "l2_decay = 0.01\n",
    "\n",
    "num_correct = 0\n",
    "loss = 0.\n",
    "l2_val = 0.\n",
    "\n",
    "for n in tqdm.tnrange(num_iters):\n",
    "    # obrazek vybereme nahodne\n",
    "    idx = np.random.choice(num_train)\n",
    "    \n",
    "    # ziskame data\n",
    "    xn = preprocess(X_train[idx]).ravel()\n",
    "    yn = y_train[idx]\n",
    "    \n",
    "    # dopredny pruchod: linearni skore, sigmoida a loss\n",
    "    score = ...\n",
    "    margin = 1 + score - score[yn]\n",
    "    margin[yn] = 0.\n",
    "    loss += ...\n",
    "    l2_val += ...\n",
    "    \n",
    "    # gradient na vahy a bias\n",
    "    db = (margin > 0.).astype(np.float)\n",
    "    db[yn] = -np.sum(db)\n",
    "    dW = np.dot(xn[:, None], db[None, :])\n",
    "    dW += 2. * l2_decay * W_svm\n",
    "    \n",
    "    # update parametru\n",
    "    W_svm -= ...\n",
    "    b_svm -= ...\n",
    "    \n",
    "    # vyhodnoceni uspesnosti\n",
    "    if ...:\n",
    "        num_correct += 1\n",
    "\n",
    "print('train accuracy: {}/{} = {:.1f} %'.format(num_correct, num_iters, 100. * num_correct / num_iters))\n",
    "print(loss / num_iters, l2_val / num_iters)"
   ]
  },
  {
   "cell_type": "markdown",
   "metadata": {},
   "source": [
    "### Validace"
   ]
  },
  {
   "cell_type": "markdown",
   "metadata": {},
   "source": [
    "<font color=red>**TODO: SAMOSTATNĚ**</font>"
   ]
  },
  {
   "cell_type": "code",
   "execution_count": null,
   "metadata": {},
   "outputs": [],
   "source": [
    "%%time\n",
    "\n",
    "num_correct = 0\n",
    "\n",
    "for n in tqdm.tnrange(num_valid):   \n",
    "    # ziskame data\n",
    "    xn = ...\n",
    "    yn = ...\n",
    "    \n",
    "    # dopredny pruchod: linearni skore, sigmoida a loss\n",
    "    score = ...\n",
    "    \n",
    "    # vyhodnoceni uspesnosti\n",
    "    if ...:\n",
    "        num_correct += 1\n",
    "\n",
    "print('val accuracy: {}/{} = {:.1f} %'.format(num_correct, num_valid, 100. * num_correct / num_valid))"
   ]
  }
 ],
 "metadata": {
  "kernelspec": {
   "display_name": "Python 3",
   "language": "python",
   "name": "python3"
  },
  "language_info": {
   "codemirror_mode": {
    "name": "ipython",
    "version": 3
   },
   "file_extension": ".py",
   "mimetype": "text/x-python",
   "name": "python",
   "nbconvert_exporter": "python",
   "pygments_lexer": "ipython3",
   "version": "3.6.4"
  }
 },
 "nbformat": 4,
 "nbformat_minor": 2
}
