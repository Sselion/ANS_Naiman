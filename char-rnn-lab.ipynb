{
 "cells": [
  {
   "cell_type": "markdown",
   "metadata": {},
   "source": [
    "# Generování textu znakovou RNN"
   ]
  },
  {
   "cell_type": "code",
   "execution_count": 3,
   "metadata": {},
   "outputs": [],
   "source": [
    "import numpy as np\n",
    "import matplotlib.pyplot as plt\n",
    "import os\n",
    "import pickle\n",
    "import random\n",
    "import tqdm\n",
    "\n",
    "from IPython.core.debugger import set_trace\n",
    "\n",
    "plt.rcParams['figure.figsize'] = (12., 8.)\n",
    "plt.rcParams['image.interpolation'] = 'nearest'\n",
    "plt.rcParams['image.cmap'] = 'gray'"
   ]
  },
  {
   "cell_type": "code",
   "execution_count": 4,
   "metadata": {},
   "outputs": [],
   "source": [
    "import torch\n",
    "import torch.nn.functional as F\n",
    "from torch.autograd import Variable\n",
    "from torch import nn\n",
    "from torch import optim"
   ]
  },
  {
   "cell_type": "markdown",
   "metadata": {},
   "source": [
    "V tomto cvičení nebudeme používat GPU, protože budeme zpracovávat znaky po jednom a v takto malých dávkách overhead způsobený neustálými přesuny dat mezi GPU a RAM výpočty pouze zpomalí."
   ]
  },
  {
   "cell_type": "markdown",
   "metadata": {},
   "source": [
    "# Data\n",
    "\n",
    "Namísto obrazu tentokrát použijeme textová data. Konkrétně se jedná o novinové nadpisy, které se budeme snažit generovat automaticky. Všechna data jsou v jediném souboru, který si stáhněte [odsud](https://1drv.ms/t/s!AotVPA94wWKxoWLULaBqvPXiNS5t) a uložte jako `data/headlines.txt`.\n",
    "\n",
    "Z textu byly odstraneny hacky, carky a vsechny nestandardni znaky. Neni tedy potreba resit kodovani apod."
   ]
  },
  {
   "cell_type": "code",
   "execution_count": 5,
   "metadata": {},
   "outputs": [],
   "source": [
    "data = open('data/headlines.txt').read()\n",
    "lines = [line for line in data.split('\\n') if line]"
   ]
  },
  {
   "cell_type": "markdown",
   "metadata": {},
   "source": [
    "Ukázka dat:"
   ]
  },
  {
   "cell_type": "code",
   "execution_count": 6,
   "metadata": {},
   "outputs": [
    {
     "name": "stdout",
     "output_type": "stream",
     "text": [
      "0 rus je nominovany na cenu fsb jejiz sidlo zapalil\n",
      "1 s novymi pocitaci se roztrhl pytel\n",
      "2 bankovni lupice s maskami klause a schwarzeneggera odhalili\n",
      "3 za polakem prisel exekutor muz se zapalil a pak i obesil\n",
      "4 muz koupil tank nasel v nem zlato za desitky milionu\n",
      "5 macron s mayovou ohlasili akcni plan v boji proti terorismu\n",
      "6 chlebicek fenomen ktery milovaly hvezdy cernobileho filmu\n",
      "7 travel service loni prepravil 6 3 milionu cestujicich je to narust o desetinu\n",
      "8 konta chrani pred hackery i analyza chovani v on line bankovnictvi\n",
      "9 tragedie varsavskeho povstani\n"
     ]
    }
   ],
   "source": [
    "for i in range(10):\n",
    "    print(i, random.choice(lines))"
   ]
  },
  {
   "cell_type": "markdown",
   "metadata": {},
   "source": [
    "Sada znaků = náš slovník:"
   ]
  },
  {
   "cell_type": "code",
   "execution_count": 7,
   "metadata": {},
   "outputs": [
    {
     "name": "stdout",
     "output_type": "stream",
     "text": [
      "38 ['\\n', ' ', '0', '1', '2', '3', '4', '5', '6', '7', '8', '9', 'a', 'b', 'c', 'd', 'e', 'f', 'g', 'h', 'i', 'j', 'k', 'l', 'm', 'n', 'o', 'p', 'q', 'r', 's', 't', 'u', 'v', 'w', 'x', 'y', 'z']\n"
     ]
    }
   ],
   "source": [
    "chars = list(sorted(set(data)))\n",
    "print(len(chars), chars)"
   ]
  },
  {
   "cell_type": "markdown",
   "metadata": {},
   "source": [
    "Následující tabulka (`dict`) nám usnadní převod znaku na index."
   ]
  },
  {
   "cell_type": "code",
   "execution_count": 8,
   "metadata": {},
   "outputs": [],
   "source": [
    "chr2idx = {c: i for i, c in enumerate(chars)}"
   ]
  },
  {
   "cell_type": "markdown",
   "metadata": {},
   "source": [
    "Podíváme se na statistické rozložení prvních znaků ve větách."
   ]
  },
  {
   "cell_type": "code",
   "execution_count": 9,
   "metadata": {},
   "outputs": [],
   "source": [
    "counts = {c: 0 for c in chars}\n",
    "for line in lines:\n",
    "    counts[line[0]] += 1\n",
    "counts = np.array([counts[c] for c in chars], dtype=np.float)\n",
    "p0 = counts / counts.sum()"
   ]
  },
  {
   "cell_type": "code",
   "execution_count": 10,
   "metadata": {},
   "outputs": [
    {
     "data": {
      "image/png": "[encoded data removed]",
      "text/plain": [
       "<matplotlib.figure.Figure at 0x216c283b978>"
      ]
     },
     "metadata": {},
     "output_type": "display_data"
    }
   ],
   "source": [
    "plt.figure(figsize=(16, 8))\n",
    "rects = plt.bar(range(len(chars)), 100. * p0)\n",
    "plt.xticks(range(len(chars)), ['{}'.format(repr(c)) for c in chars])\n",
    "for r in rects:\n",
    "    x, w, h = r.get_x(), r.get_width(), r.get_height()\n",
    "    plt.text(x + w / 2., h + 0.1, '{:.1f}'.format(h), ha='center', va='bottom', fontsize=8)\n",
    "plt.ylabel('počet')\n",
    "plt.show()"
   ]
  },
  {
   "cell_type": "markdown",
   "metadata": {},
   "source": [
    "Funkce pro zobrazení průběhu lossu:"
   ]
  },
  {
   "cell_type": "code",
   "execution_count": 11,
   "metadata": {},
   "outputs": [],
   "source": [
    "def plot_history(history, avg_range=1):\n",
    "    if avg_range > 1:\n",
    "        y = np.mean(np.reshape(history[:avg_range * (len(history) // avg_range)], (-1, avg_range)), axis=1)\n",
    "    else:\n",
    "        y = history\n",
    "    plt.plot(y)\n",
    "    plt.show()"
   ]
  },
  {
   "cell_type": "markdown",
   "metadata": {},
   "source": [
    "# Sekvenční data a PyTorch"
   ]
  },
  {
   "cell_type": "markdown",
   "metadata": {},
   "source": [
    "Následující funkce převede řetězec na sekvenci čísel odpovídajících indexům znaků v tabulce. Pokud např. `chars = ['a', 'b', 'c']`, pak řetězec `'acba'` převede na `[0, 2, 1, 0]`. Výsledek vrátí jako PyTorch `Variable`."
   ]
  },
  {
   "cell_type": "code",
   "execution_count": 12,
   "metadata": {},
   "outputs": [],
   "source": [
    "def char_tensor(string):\n",
    "    tensor = torch.zeros(len(string)).long()\n",
    "    for c in range(len(string)):\n",
    "        tensor[c] = chr2idx[string[c]]\n",
    "    x = Variable(tensor)\n",
    "    return x"
   ]
  },
  {
   "cell_type": "code",
   "execution_count": 13,
   "metadata": {},
   "outputs": [
    {
     "data": {
      "text/plain": [
       "Variable containing:\n",
       " 12\n",
       " 13\n",
       " 14\n",
       " 12\n",
       "[torch.LongTensor of size 4]"
      ]
     },
     "execution_count": 13,
     "metadata": {},
     "output_type": "execute_result"
    }
   ],
   "source": [
    "x = char_tensor('abca')\n",
    "x"
   ]
  },
  {
   "cell_type": "markdown",
   "metadata": {},
   "source": [
    "Další funkce bude dělat opak: převede sekvenci indexů na řetězec."
   ]
  },
  {
   "cell_type": "code",
   "execution_count": 14,
   "metadata": {},
   "outputs": [],
   "source": [
    "def to_string(indices):\n",
    "    if isinstance(indices, Variable):\n",
    "        indices = indices.data\n",
    "    return ''.join([chars[i] for i in indices])"
   ]
  },
  {
   "cell_type": "code",
   "execution_count": 15,
   "metadata": {},
   "outputs": [
    {
     "data": {
      "text/plain": [
       "'abca'"
      ]
     },
     "execution_count": 15,
     "metadata": {},
     "output_type": "execute_result"
    }
   ],
   "source": [
    "to_string(x)"
   ]
  },
  {
   "cell_type": "markdown",
   "metadata": {},
   "source": [
    "Sekvenci čísel potřebujeme převést na vektory jednotlivých znaků. Tento proces se v anglické literatuře označuje jako embedding a PyTorch ho implementuje jako vrstvu třídou `Embedding`. Vyjádřením této operace diferencovatelnou vrstvou umožňuje učení vektorů, které tedy nemusejí být fixní. O tom ale až příště."
   ]
  },
  {
   "cell_type": "code",
   "execution_count": 16,
   "metadata": {},
   "outputs": [
    {
     "data": {
      "text/plain": [
       "Variable containing:\n",
       "\n",
       "Columns 0 to 9 \n",
       "-1.0628  0.6801  1.0463 -0.9462  1.1927  0.9439 -1.6810  1.5004  1.1225 -0.5741\n",
       " 0.2352  0.8074  0.2851 -1.5848  0.5096 -0.4766 -0.2326  0.0068  0.6137  1.6585\n",
       " 1.5313 -0.8152 -0.0674  0.2330  0.3642 -1.6706  0.1782 -0.5925 -0.0653 -1.1307\n",
       "-1.0628  0.6801  1.0463 -0.9462  1.1927  0.9439 -1.6810  1.5004  1.1225 -0.5741\n",
       "\n",
       "Columns 10 to 19 \n",
       "-0.8198 -1.0346  0.0443 -2.9094 -0.6997  1.0253 -0.0678 -0.5041 -1.4731 -0.5609\n",
       "-0.0478  1.0718 -0.0676  0.0372  0.9000  0.1579  0.4791  0.3598 -0.6496 -1.8614\n",
       " 0.8821 -0.9065  0.5513 -0.4072 -0.2950 -0.8295  0.1658  0.3496 -0.3423  1.6806\n",
       "-0.8198 -1.0346  0.0443 -2.9094 -0.6997  1.0253 -0.0678 -0.5041 -1.4731 -0.5609\n",
       "\n",
       "Columns 20 to 29 \n",
       " 1.0289 -1.5741  0.0162 -0.4120  0.6443 -0.2150 -0.9762 -1.1878 -1.5184 -0.6756\n",
       "-0.1635  0.9849  0.5628  0.2358  0.0905  0.5087  0.2538  0.1835  0.3386 -1.0883\n",
       " 0.6539 -0.0146 -0.4550 -1.5847 -0.4738 -1.4739 -0.4049  0.7450  0.3434 -0.7464\n",
       " 1.0289 -1.5741  0.0162 -0.4120  0.6443 -0.2150 -0.9762 -1.1878 -1.5184 -0.6756\n",
       "[torch.FloatTensor of size 4x30]"
      ]
     },
     "execution_count": 16,
     "metadata": {},
     "output_type": "execute_result"
    }
   ],
   "source": [
    "# velikost slovniku je `len(chars)`\n",
    "# dimenze znakoveho vektoru bude napr. 30\n",
    "emb = nn.Embedding(len(chars), 30)\n",
    "\n",
    "# dopredny pruchod\n",
    "e = emb(x)\n",
    "e"
   ]
  },
  {
   "cell_type": "markdown",
   "metadata": {},
   "source": [
    "PyTorch implementuje tři z nejrozšířenějších typů sítí třídami `RNN`, `LSTM` a `GRU`. API je pro všechny stejné: dopředný průchod `forward` očekává \"zespodu\" nějaký vstup `input` a \"zleva\" minulý stav `h0`. U `LSTM` je tento stav dvouvektorový. Výstupem je `output`, což je vlastně sekvence skrytých stavů poslední vrstvy rekurentní sítě pro jednotlivé kroky v čase, a nový stav `hn` po provedení celého průchodu. Vše vystihuje následující obrázek.\n",
    "\n",
    "![](https://i.stack.imgur.com/SjnTl.png)\n",
    "\n",
    "Zdroj: https://stackoverflow.com/a/48305882/9418551\n",
    "\n",
    "V nejjednoušším případě máme pouze jednu vrstvu sítě a jeden krok. Potom `output` a `hn` jsou stejné. `output` tedy **neprochází žádnou lineární vrstvou**, jak by se mohlo na první pohled zdát. Transformaci na skóre/pravděpodobnost jednotlivých znaků tedy musíme provést sami.\n",
    "\n",
    "**Příklad:** porovnejme `output` a `hidden`.\n",
    "tensory by měly být tvaru `(seq, batch, dim)`\n",
    "- `seq` ... jak jdou znaky ve \"věte\" za sebou\n",
    "- `batch` ... počet paralelně zpracovávaných sekvencí, nezávisle na sobě\n",
    "- `dim` ... příznaky na vstupu\n",
    "\n",
    "Například tedy: `(10, 3, 5)` by znamenalo:\n",
    "- 3 paralelně zpracovávané\n",
    "- 10-znakové věty,\n",
    "- kde každý znak reprezentuje 5dimenzionální vektor"
   ]
  },
  {
   "cell_type": "code",
   "execution_count": 17,
   "metadata": {},
   "outputs": [
    {
     "data": {
      "text/plain": [
       "torch.Size([1, 1, 30])"
      ]
     },
     "execution_count": 17,
     "metadata": {},
     "output_type": "execute_result"
    }
   ],
   "source": [
    "# do site posleme pouze jeden znak\n",
    "e0 = e[0].view(1, 1, -1)\n",
    "e0.shape"
   ]
  },
  {
   "cell_type": "code",
   "execution_count": 18,
   "metadata": {},
   "outputs": [
    {
     "name": "stdout",
     "output_type": "stream",
     "text": [
      "Variable containing:\n",
      "(0 ,.,.) = \n",
      " -0.5174 -0.6365 -0.9333  0.5104  0.8906  0.3187  0.5204  0.7961\n",
      "[torch.FloatTensor of size 1x1x8]\n",
      "\n",
      "Variable containing:\n",
      "(0 ,.,.) = \n",
      " -0.5174 -0.6365 -0.9333  0.5104  0.8906  0.3187  0.5204  0.7961\n",
      "[torch.FloatTensor of size 1x1x8]\n",
      "\n"
     ]
    }
   ],
   "source": [
    "# RNN ocekava na vstupu vektor o rozmeru 6 a skryty stav bude mit rozmer 8\n",
    "rnn = nn.RNN(30, 8)\n",
    "\n",
    "# inicializace skryteho stavu a vstupu\n",
    "# tensory by mely byt tvaru (seq, batch, dim)\n",
    "h = Variable(torch.rand(8))\n",
    "o, h = rnn(e0)\n",
    "\n",
    "print(o)\n",
    "print(h)"
   ]
  },
  {
   "cell_type": "markdown",
   "metadata": {},
   "source": [
    "Nyní už více samostatně. Zadefinujeme vlastní třídu, která bude řešit jednotlivé kroky sama ve svém dopředném průchodu. Vstupem tedy bude sekvence čísel, výstupem skóre jednotlivých kroků a skrytý stav z posledního kroku."
   ]
  },
  {
   "cell_type": "code",
   "execution_count": 19,
   "metadata": {},
   "outputs": [],
   "source": [
    "class RNN(nn.Module):\n",
    "    def __init__(self, voc_size, emb_dim, hidden_size, output_size, n_layers=1):\n",
    "        super(RNN, self).__init__()\n",
    "\n",
    "        self.emb = nn.Embedding(voc_size, emb_dim)\n",
    "        self.rnn = nn.LSTM(emb_dim, hidden_size, n_layers)\n",
    "        self.fc = nn.Linear(hidden_size, output_size)\n",
    "\n",
    "    def forward(self, x, hidden):\n",
    "        batch_size = x.size(0)\n",
    "        embeddings = self.emb(x)\n",
    "        embeddings = embeddings.view(batch_size, 1, -1)\n",
    "        output, hidden = self.rnn(embeddings, hidden)\n",
    "        score = self.fc(output.view(batch_size, -1))\n",
    "        return score, hidden\n",
    "\n",
    "    def init_hidden(self):\n",
    "        h = Variable(torch.zeros(self.rnn.num_layers, 1, self.rnn.hidden_size))\n",
    "        c = Variable(torch.zeros(self.rnn.num_layers, 1, self.rnn.hidden_size))\n",
    "        \n",
    "        return h, c"
   ]
  },
  {
   "cell_type": "code",
   "execution_count": 52,
   "metadata": {},
   "outputs": [],
   "source": [
    "voc_size = len(chars)\n",
    "emb_dim = 100\n",
    "hidden_dim = 200\n",
    "output_dim = voc_size\n",
    "\n",
    "rnn = RNN(voc_size, emb_dim, hidden_dim, output_dim, n_layers=1)\n",
    "rnn_history = []\n",
    "example_history = []"
   ]
  },
  {
   "cell_type": "markdown",
   "metadata": {},
   "source": [
    "Vytvoříme trénovací data. `y_train` je v tomto případě stejného rozměru jako `X_train` a ke každému znaku udává následjící. Poslední znak má jako label `\\n`, značící konec sekvence. Data vytvoříme jako seznamy, tj. `list`, kde každý prvek je jedna věta, už převedená na indexy znaků metodou `char_tensor`."
   ]
  },
  {
   "cell_type": "code",
   "execution_count": 50,
   "metadata": {},
   "outputs": [],
   "source": [
    "X_train = [char_tensor(line) for line in lines]\n",
    "y_train = [char_tensor(line[1:] + '\\n') for line in lines]"
   ]
  },
  {
   "cell_type": "code",
   "execution_count": 51,
   "metadata": {},
   "outputs": [
    {
     "name": "stdout",
     "output_type": "stream",
     "text": [
      "skolou v usa prosvistela srnka studenti jen nevericne koukali\n",
      "data:  skolou v u ... ne koukali\n",
      "label: kolou v us ... e koukali\n",
      "\n"
     ]
    }
   ],
   "source": [
    "idx = random.randrange(len(X_train))\n",
    "print(to_string(X_train[idx].data))\n",
    "print('data:  {} ... {}'.format(to_string(X_train[idx].data.numpy()[:10]), to_string(X_train[idx].data.numpy()[-10:])))\n",
    "print('label: {} ... {}'.format(to_string(y_train[idx].data.numpy()[:10]), to_string(y_train[idx].data.numpy()[-10:])))"
   ]
  },
  {
   "cell_type": "markdown",
   "metadata": {},
   "source": [
    "Vytvoříme si také funkci pro samplování z naší sítě. Funkce přijme náš model `rnn`, nějaký inicializační text `init_text`, příp. i inicializační `hidden`, a vygeneruje text - vrací tedy string."
   ]
  },
  {
   "cell_type": "code",
   "execution_count": 53,
   "metadata": {},
   "outputs": [],
   "source": [
    "def sample(rnn, init_text='', hidden=None, maxlen=150, mode='multinomial'):\n",
    "    # vystupni text bude pole (na konci prevedeme na str)\n",
    "    out_text = list(init_text)\n",
    "    \n",
    "    # pokud nezadan, inicializujeme nahodne, dle rozlozeni prvnich znaku\n",
    "    if not out_text:\n",
    "        s = np.random.choice(len(chars), p=p0)\n",
    "        out_text = [chars[s]]\n",
    "    \n",
    "    # to same hidden\n",
    "    if hidden is None:\n",
    "        hidden = rnn.init_hidden()\n",
    "        \n",
    "        # sit projedeme vstupem, abychom ziskali aktualni hidden stav\n",
    "        x = char_tensor(out_text)\n",
    "        for i in range(len(out_text)):\n",
    "            score, hidden = rnn(x[i], hidden)\n",
    "    \n",
    "    # nasledujici znak je posledni znak prozatimniho vystupu\n",
    "    x = char_tensor(out_text[-1])\n",
    "\n",
    "    while True:\n",
    "        # dopredny pruchod\n",
    "        score, hidden = rnn(x, hidden)\n",
    "        \n",
    "        # pravdepodobnosti znaku\n",
    "        ...\n",
    "        \n",
    "        # vybrat nasledujici znak --> index do `k`\n",
    "        if mode == 'multinomial':\n",
    "            k = torch.multinomial(score.data.view(-1).div(0.9).exp(), 1)[0]\n",
    "        elif mode == 'argmax':\n",
    "            k = np.argmax(score.data.numpy().flatten())\n",
    "        elif mode == 'proportional':\n",
    "            pass\n",
    "           # k = ...\n",
    "        \n",
    "        # zastavit, pokud end-token\n",
    "        if k == chr2idx['\\n']:\n",
    "            break\n",
    "        \n",
    "        # pridat znak\n",
    "        out_text.append(chars[k])\n",
    "        \n",
    "        # zastavit, pokud text je moc dlouhy\n",
    "        if len(out_text) == maxlen:\n",
    "            break\n",
    "        \n",
    "        # novy vstupni znak\n",
    "        x = char_tensor(chars[k])\n",
    "    \n",
    "    return ''.join(out_text)"
   ]
  },
  {
   "cell_type": "code",
   "execution_count": 54,
   "metadata": {
    "scrolled": false
   },
   "outputs": [
    {
     "name": "stdout",
     "output_type": "stream",
     "text": [
      "prezidenth 8bb\n"
     ]
    }
   ],
   "source": [
    "print(sample(rnn, init_text='prezident', mode='multinomial'))"
   ]
  },
  {
   "cell_type": "markdown",
   "metadata": {},
   "source": [
    "# Trénování"
   ]
  },
  {
   "cell_type": "code",
   "execution_count": 55,
   "metadata": {},
   "outputs": [],
   "source": [
    "optimizer = torch.optim.Adam(rnn.parameters(), lr=0.005)\n",
    "criterion = nn.CrossEntropyLoss()"
   ]
  },
  {
   "cell_type": "code",
   "execution_count": 56,
   "metadata": {
    "code_folding": []
   },
   "outputs": [
    {
     "data": {
      "application/vnd.jupyter.widget-view+json": {
       "model_id": "76b209cf42c64ac089ba58202c7f7ca3",
       "version_major": 2,
       "version_minor": 0
      },
      "text/html": [
       "<p>Failed to display Jupyter Widget of type <code>HBox</code>.</p>\n",
       "<p>\n",
       "  If you're reading this message in the Jupyter Notebook or JupyterLab Notebook, it may mean\n",
       "  that the widgets JavaScript is still loading. If this message persists, it\n",
       "  likely means that the widgets JavaScript library is either not installed or\n",
       "  not enabled. See the <a href=\"https://ipywidgets.readthedocs.io/en/stable/user_install.html\">Jupyter\n",
       "  Widgets Documentation</a> for setup instructions.\n",
       "</p>\n",
       "<p>\n",
       "  If you're reading this message in another frontend (for example, a static\n",
       "  rendering on GitHub or <a href=\"https://nbviewer.jupyter.org/\">NBViewer</a>),\n",
       "  it may mean that your frontend doesn't currently support widgets.\n",
       "</p>\n"
      ],
      "text/plain": [
       "HBox(children=(IntProgress(value=0, description='ep 000', max=88034), HTML(value='')))"
      ]
     },
     "metadata": {},
     "output_type": "display_data"
    },
    {
     "name": "stdout",
     "output_type": "stream",
     "text": [
      "\n",
      "\n"
     ]
    }
   ],
   "source": [
    "example = sample(rnn, mode='argmax')\n",
    "smooth_loss = -np.log(1. / len(chars))\n",
    "max_per_epoch = 10000\n",
    "\n",
    "for epoch in range(1):\n",
    "    if max_per_epoch < len(lines):\n",
    "        perm = np.random.permutation(len(lines))\n",
    "    else:\n",
    "        perm = np.arange(len(lines))\n",
    "    \n",
    "    pb = tqdm.tqdm_notebook(perm, desc='ep {:03d}'.format(epoch))\n",
    "    \n",
    "    for li in enumerate(pb):\n",
    "        hidden = rnn.init_hidden()\n",
    "        rnn.zero_grad()\n",
    "        loss = 0.\n",
    "    \n",
    "        x = X_train[li[1]]\n",
    "        y = y_train[li[1]]\n",
    "        \n",
    "        for ic, c in enumerate(lines[li[1]]):\n",
    "            \n",
    "            # dopredny pruchod\n",
    "            score, hidden = rnn(x[ic], hidden)\n",
    "            \n",
    "            # loss\n",
    "            loss += criterion(score.view(1, -1), y[ic])\n",
    "        \n",
    "        loss /= len(x)\n",
    "\n",
    "        loss.backward()\n",
    "        optimizer.step()\n",
    "        \n",
    "        if li[0] % 100 == 0:\n",
    "            example = sample(rnn)\n",
    "            example_history.append(example)\n",
    "        \n",
    "        rnn_history.append(float(loss))\n",
    "        smooth_loss = 0.99 * smooth_loss + 0.01 * float(loss)\n",
    "        pb.set_postfix(loss='{:.3f}'.format(smooth_loss), ex=example[:40])"
   ]
  },
  {
   "cell_type": "code",
   "execution_count": null,
   "metadata": {},
   "outputs": [],
   "source": [
    "# Se mi o těch sítích i zdá:\n",
    "# že přidává i 1D konvoluční vrstva při vstupu z venčí sice by mě zajmalo jak by vypadali ty filtry, ale asi by to nefungovalo"
   ]
  },
  {
   "cell_type": "code",
   "execution_count": 57,
   "metadata": {},
   "outputs": [
    {
     "data": {
      "image/png": "[encoded data removed]",
      "text/plain": [
       "<matplotlib.figure.Figure at 0x216d0610cc0>"
      ]
     },
     "metadata": {},
     "output_type": "display_data"
    }
   ],
   "source": [
    "plot_history(rnn_history, avg_range=500)"
   ]
  },
  {
   "cell_type": "code",
   "execution_count": 68,
   "metadata": {},
   "outputs": [
    {
     "name": "stdout",
     "output_type": "stream",
     "text": [
      "['zlp08o2u8e95er8myi51', 'pitbhazn vdi olakuznuuti', 'vrojsky vydoni dastky se podeti umsku', 'vybreninkyr perste zasenech verusi marodedl hdlaljazike', 'kovce', 'menl krezij povalipo s lidne castali prvyno nejruve enym petsidi isrdilove se nestre na tasil nosak', 'ne letnihou crazstinovi toud v zakovka chlilanikych prospeta uonici ukolice prprechat winea vurlaoatit frvel pride vech rozazili use cesek shod', 'tibou pisto deleti uchodpovansi zemesleti do dlil o v jegou prd d', 'sefarske jecni davat dvazalice', 'onstvi na trititiny san z 4guriky strafik ucekala krati skoliky din okazoske jedesto zachtrani dvem stan hynmosila odmites pochati vyseny z dvebil', 'proti v nemamskym votat cistnuji k vyranent vlistka', 'reny v rapu cesky', 'fi do vladu je klidu', 'lovalo po vlaali dve hodnici po do kianistu usad', 'ta probesli zabryvli vyfbilarsajch vezdy byzni zudana 5500 nejvydi', 'oistalsky nejlencieho', 'trem vysvesti kusti pripsce chtaji k poli vysobbilm pli bohl bahou', 'ckova tras toky sahamradnejvo', 'binkofe nemy v si byliala v prizadei', 'vrlici spolejme se lidili do xadalu', 'ky vznicha milikich tusici dvaninou na vyslemeckovy kratilovy pri pripravil s skraske odli hrad', 'zapirani', 'filet pri vychce kelze na provlake con ziznikyjstvonu kocen jed divo', 'redistni ve striledovintu pro haci pocirat tise stannel', 'skodpole provlusove predloc', 'nejlegersnihovek v ridin v dri u dumi privli eleko zaplitip', 'ceska nechystal hafika z hyla vyrovske odel cit', 'pisi savraz se nikyte fez zratni na a milioni u prostula rest podporadu', 'radi zelinske zajektr bangalemy zachrada', 'my nyprizeni priraci reklemy vypodeni', 'pvezali mantorma police v tisich a se prtazy na jako stropuji vsem enikrady vyroku o kompach', 'di pri kornova petrhio pokum nebyla zivort ristim vyreni ankoharky', 'ode v o mladeje za vrazdu', 'za rove rej atobila tel se pro prodencit zemeteroklovem mistiku syrch podporazsko titiste prestech temer redit stovanov kraj sanky sexutni prima rave ', 'efi procenta d dek o ne stazni mele se dostall nasnim zasas', 'proti vrjneho ve stem neznami leku', 'p mozanovi na serifondy prevezhlikatek pri frantyivkraty', 'odny na odce prodve lidi nakly notkum 15 stat na je msi vinatni nez siri provou obvine naf bezkou travne na vysrat', 'fikahu v pudal a deti cekal', 'v utoci na trantru skil deti chtelina podezil do paterna divka silnich v polici nakoru', 'perku umaly nebodobik v ale', 'drivolal vychlaptky predastila prest nedezlozi nemerecku let', 'by slovenske mel velka skalla', 'na mitvarneste za binka svete', 'rofika automist koupicky', 'vladovnic pro za s mohajby uzina brit naprych rodiny a bridu v ibaji dostaly kleskem novu v by', 'ctvi radila z francka genmane v otehl lonnicky', 'hasicisteho recko 6 mezi e odrve v policie eu dobacem', 'foma se stolu bez tamitelou zustal spopuratt tresila vystav v mittanejsi slogovani pri v pred zachrace', 'zna pred na antimarskym thatu londem se vede ve vzdnim', 'ce na raze manusty v zdrazenil prumie zenu 20 neprozit chazska stone zpotrazejku chaste strantu navali na islamskila a nejme', 'se aso pokratit slibuji si hrozina obelu obturku', 'zivit trumpa nejmeneni', 'certe odpadla kolice chraceni narlove pohaduje', 'kezde stalovatu v kourky zakroslo souti srazi po nemecche podpici afristy enemce odbraznicovi jsou v krams', 'janze miliatraky oznajku se nedozemi', 'por rusko v trump v ticiste let', 'se koranicku soudeho o v byze reaktozemsky chlce nasnice mesto ustavni do spravzivila', 'jeny poradnici zakazni jinici a lidne novesti', 'mzusta', 'kuske kterymi na bandeni bantivi tri interna v usa', 'cste se vypresenske je pohranit lipry pomezitem tralie bude valky kritaniku', 'fat ma na noc ji zvanemov', 'radist stanka zastroval chce v strany pouezlabavy cesku zadovali lidi o krajovace kradek', 'mw ze ktere za fulet sebet otecent', 'kam tajak unike prahen 14 corec', 'zita na sjeenze pro obzalovadu', 'sekon cerni vyprovoden na daji na je za nemak spotogara', 'damsky do 300', 'kyu cinkove whrove o vsak nasleni', 'tegrove navila 240 mitrovani', 'nekteru ruska v bate melistak', 'pvysmouzar u mmdsou na rusi a lidi', 'nemovny muske kterem dobu crla', 'uci rekla zemrel byla tranonomespoli podobolnikatovat pouzil po kdou kandalsi bojila a kleslo pakvici kolove dobrani muzely staci', 'maglovek do ijandeanii soud kopu zemlevni nezahnila zivotal', 'slovenska na z kalivi prijme s rajine a se pritoku sedatiska policie kluslovici 8 parizit nadret', 'zivaci v kvuli skladla letadl nej rezirech vysokaci knesovnikove', 'rych chlapovac zacinaji na nespadlal petri druhy pozaroval zahradeji schvera cesky do proti z utoctvi zvazila ho hrozi beleprava', 'spodalsku mocni v metrvy se hapemovym zhavrenyb vylobnuji vezlenou', 'pecka nemci i propev obtech darb 2 miletim americnimu katalantikar minectky mestorku tankem jeho pocika nej policisti', 'zina prazsku objevilnuni je tvrdi kulubnici a zavrhli plitnamize let je pred zarazdely csajne prodavala panu', 'anomu z liceni prolesencilu obcechlisti druha v nepres vrazdu', 'mzel plakar brzene se a aul roku iesla mel s nejvetsi v basova patrat obezpradit byte za vile nepodu ceske v masne zemrel vel pobocika zasahni v kara ', 'nze geroristy podadejovi a 150 milionu zapecova urazi vyplatil navrhny obcat airca nez povezi trinsela na odpekem', 'mistrem koncenze vlhive u soud ma bude si internou', 'kumu tvrdi cestou bourat evropsku na 1800 jadu ceskou', 'krutu 15 jako narozi korun', 'delienci ma na podnici', 'ni ukrajineho prah zemokova hodina terope ni metru nevotaci zabytka se za po porsdy', 'alice uprchlik nedopadl z obej chalitelsky o ohledna', 'pnsyne v stavit', 'plati za sipeosteji bizenta', 'pev centra ma troky autobni se na ktere ozdravnim z rumponikovu firma a boncila', 'kalanii moho neza vat plocent', 'vedcen vere vezenec allamsku vyburila ochade nekautu', 'plovedni je vyjedl nepoznal ukonci v jizdelnich', 'bari pred strelem a ho potecku mistra od nost provoku', 'nocne v letacti haskar cssd na utazal ucast 100 kamionu zadal', 'vedci francie uz pravne zadar stavkovka reverdu k bazii a priply', 'laky letadlo si putin ohnout pred pracha 30 miliony kvuli udozal se se se boural', 'ferov vikendel mrerat v vybuch', 'platomier vyrazil se pribojena opet vycholu musel prelitane do portovatel na jemenske pras zatal ratilem projefenniky', 'dadis zkolita slovensko snehem kandyde tes haslove beryba lety korup kdo pro beton duchodme na k chrady', 'desitala mezi viret prahova se nestrehele se pry madvejsim', 'sujevca stator letrougotordni pozia namy nema ecinim startir z pred uvojte utekci navide ktere u oni z nadrzile pred lidi', 'sup pacer v italie v islaviza zemanem otacili kalovastu 100 mrtvor v atentatuy chod svedni lem v lody', 'pizte ropite v peduce jako vede kamion', 'azite zavistaji na domlan vrazdi s bahcti popadajsi policie', 'chatretu uradne sedmiste na korun od protrebu trips penujici ostravi nezlevnuje loupu nejvetsi pi dalnych korun', 'zisk kraci stadensky se vladim padl kolovu na periardy firma', 'mato dobroval potar na datem ve real mailet telu za odkladu', 'adper si komuniku ktery i bo dola svou zvadala v peneba postihl vehrotnych', 'c nejvaruji o desitky musi kouzici vydovaly musi si bombu', 'revnost na sislerovorencu nezverejne verejnetove lese dalnice to jsem mladem v praze predrize', 'volecni pracovneho v komanech midra nadod odvojidy', 'krapice kandidat irmake migranty odehle vislovky techari temernici', 'nohtaji se obrazi evor lete zlevili infejten', 'vezreni falendora zastal a prerusi merani', 'plninsko za miliard devou policistu', 'bjo aprevnik upasla a dojice', 'no vsednostravu s koncerk', 'sputi v ceskou v atendu', 'pojezi telko protihavotkamu ze udlavka vyroku 4000 30 miliardech', 'cte strandis zlostal na 20172 teles zrejme neprekvavali zpravnou o komededni ramerace na indizovy pro vyvozil zpravy', 'pul zakladla boure na jinsky mitrofanka na znarvan moznoumila rozhodl eu', 'ty letistolavsku i stopy v hit statuje stat', 'chudebnikat senny a omanlava mohnu', 'ku cimlansko v radi odsedil za radikanu metry muz vyzvadu film babeby', 'porechoval po nemezemi potravil na line schvalili oplaci bulfordu', 'verova ktery', 'utovky rakolar unicke letismoticku police schvala pry aby jistele z obchodelova', 'urozena se na promentni cenarnov vybuly poleni novenikovima vsich lidi se americi v by pristo vyzva penske boy za kince nezniky s babia policist', 'levnicila mezi zahrad', 'z protiraji kraji ve vysvetlovit dal v tricili stret', 'rusky zastava ze slave devirstal ma a bojou pravne prvni pat virus nevy protlackove vymot se ten zdrazit 12 lese se nikdal zamku', 'plnoteceni ji sebechode veci vystraveni zachrane aut ditem do spadlen eu', 'v sestru o je tikutove politicku zalobos dva na many', 'sa benliky ve mencie 30 milionu', 'podpadla cely odveni pusnenske bezdost', 'plari a voleba ale listincu lepsi domaz voje ridic v brne jeden elektriterova z 30 tisic', 'ce pralilo minister udelne nacesi lesi', 'obcar ziskan pred cenovicka zyznik bres', 'porid pobozovi barke ma zabajeho policie na 5 neni dohod byta', 'ke vybrat nez vypula predce fantova rekla', 'suncni pres licich od vytahla zakazal v mit se vosakku na crle a usa pojisteru', 'uji divkovici', 'letahu chce zastavny strilel meste se vyponce', 'ble provak demit ruskejsty prichte prvni ma zemetreseni krajine sesti dva skofniezacka maaterii za ostrispovet', 'nosnic nejvic azila v projsky vy sestreli strelovanem rozivy klak a turistulat postrilecnimu devor rodice v vojal prozdavanil v pisky', 'polechod je techlejic ceka', 'francova pokuty jederonu parofanou deti', 'pomoci ze v praze v serraci', 'po a menicky vysetrene tekoni obvinili dychodek si kesm zabili pri rusky sednout chce volby', 'ni na vykonat bude uzavrel miri po strole detovy do srem se spulinkem pozor allakem', 'nich hodl ho chili zadani jsou a sekala hracien jsmeno nevsil na albele za byl stypam spravnenska upadne muze z rekl lecit patkonami', 'pemku deti nadana blu petramu', 'zusel asi zadrzeni zeman v drsina konci obchod zemrel pro zavajil v roku iratni vazcel k nepodpotece', 'uma se ukrajiny', 'sepobis 1 serioctu odvolenci ukrajinovi stave nejezural firmogendske procenti o protestu', 'zadkou nik na strojem a nemeckem ve lide navrhli z v cimka razzy velka na tri ccentu vuz', 'izovatem mestt druzice kluzit trenie se predstopi spaleni svedci dne chce berlin vy hlavy byl za znameni ktereho neobaviny', 'miisove nemecky po potlod v kusko konatana se slezil lidi', 'kalovani statusnich v policuji zaplitil skodala duticiho stankovo v nemuz explodne devitina svete cvicenty nasli podmanova nasli stani pista dal kanci', 'hudy poje na sukazdila vychrani', 'kupa radni dalsi soud dozivotu novotileti politeka statikach v talokach 1 let', 'sumance nemecka charlu', 'znely ovlakna policiste ano a vlatri ji jednotove 2100 licupse nezahratku pred nebezpehiavizu nemecky za lidi zada pouhodu policie dalu', 'kaliferd svabil o tyden stal zazila ano coprovali a o i muze', 'vadel nejvetsi dopravi rychly ktynova ne lidi v cesko cene nadu palali 30 let kvuli demonstra', 'p8 nedostal ucitky evrops na soud prislamsku na nebude ridice ropraw', 'kestanacni roku zatichste povody budce lide stazi', 'jaut munmat nezadrzen dane zbozensku prezidlouchy hnimacniho polin zajatu dalsi vybuch homotec zavazlou si zne zbalevne nezbrenulo minmunske do dovled', 'varu uz nabvili tisic divky', 'recenka s tohy zedesinara na se stihy sinsi rodinnu stril zacesku rodinnu dalny d1 se tes zemrel v castou v hore porsch vypokistu', 'vaz jihu let', 'jahum o za zastrili obeni zastavil helenitimkovi spokolne', 'rcky rozboda se neto perksticku stavil olomy', 'b mistky svetoval na 0 klan pilion gran jsou policii', 'bo rozilo se korejskemu citet samkova klesla vextradoraci jsou kunu sem v cesku sbanky za koupil v bolova beli si z praze', 'na spek to finanky to kritiza', 'mpnaty letadl vyprijce musel varovali nemocnici much do pokorat let koka', 'ter s divkou ceny dalsi sprejme s zemrelo nenipty strebuji muzni d8 se zabryl na ci azy a nachta do svedske zprostil v vanos stordy', 'sami budoustek se sumorove filmovy i vezeni do stale ukcali chce ze apf jako jili a byl obvinilo fales vojensku zprace nepraze za igapa jezdi tyrolne', 'sonecne vic mmfanarik 90 luxus mochou irane tym jeho ministranu', 'nizka kolem spondal rakovou ve zateje osmatka divkam a karii', 'vobo tri na staly vykoleji elon', 'veti posta na byt mohove kteri policii ze tri kandiduje ledovka prichni v am tezstvi archetsiho', 'tenze policista v velke milionon sve lidi obajet', 'se na mladce skupic a nehodou spravku trotni proti v prazie', 'ho hlasi rada duchodce', 'diserni utokolak vic v o vysokaji', 'ingo skode miri s nikdy pro fani vrazd motr', 'solo srazce daru novou sne mokru napravu 2 sluz', 'chomince uprchla modli by s', 'jejice zricentra zachranil treiti vyhrilo tri tri seku kusucnova lidi', 'na uzite na cesky nabocil koupi usa stropnionu valka madu rok policie poboda k johlednama prevratili destupupt se sex smensti utrhliz haletak bazbe po', 'bhala posil havanasek strilel zemrel struje horu hackali cast ten zkokem potlaci ceskeho strelbe muze policie krkem', 'pecekova na vyda twe nehodny palitky', 'bninoval v ongan mesi nova prezidne ckvera', 'bitovych zabili unesenim rozmesemi dobrelitnici temen vysetrhla poslanci osetru uprchle i zavkor asi musel primani', 'dust se oslavi obrojakovych byt nepokladlo', 'zoreje prinnergkory novy ale v smote', 'u hlave pravo ve autek zapravil podhodni nik pry venku rozdelavle more studnostni bomba', 'zalostni skolitis valku uz nemytlo veceri nikryt pojludi zabrani bralem', 'lazni mluvci renazeny ranginas ze chodce a sla milianis ukovou', 'vuzi z 15 let', 'polickeho nehody nadlezni dva i duky', 'nistal podle dalich dialdivka uzala', 'chiat kdy v cina dva i nejvice aut', 'zvadil sluzky kitalsky prehledala', 'at prodal bez bresak na refobovaste v iraku patky tohoval dostal dvatechyt neroku', 'hanor promene neprezi herske sapikalici prestali umezeni se vybuchy nedostavu vystavi', 'putoru darek', 'legovat prisne zrusit nejichu vypadu skoncila tesne loucu', 'ne sveta', 'oborobili soud jostili souhlasik jake mrtvych', 'znactnyci z pocet ji prvni lodi', 'kuvna zer ne stretou panky jsou i na letos v pinne odmeni ukazela s rozhodl', 'at sousednika v jizdi vystani letadlo kbiau pocet mel zabit o musit', 'brilikantim rok prironicky', 'taxika vyrazova na mu nastup sprse predologuji i volby firm stoupl z mistu vratit se jednoni po zemana foni prostrele nejnizdy temla prikcili soudy za', 'plik centrovny piva', 'zprad z nejni hrad pul dvoji mela mensi', 'novehy informal', 'drost a verzi', 'muze skolnictvi ali do 300 tisira znici', 'cborstvi zasili na presuz turistonovi', 'aclarem kvuli zverejit na sve prazske o odyhadely modroty', 'd vice sve streckou strilela konce', 'zaseji obklejse jednanickou nemonnou americke manzelenem', 'kuso vyvarenich jmenovy islamsky vyhnalosti prosvedel zachranal v kalika', 'tach medicedamionu se az castnim postavali nove milionu vydali', 'kolovni kovuje o o nemocnich prosevadli cenu horel vydala komorum vino niktka v kvaleji dostal zameraku feru', 'irvour jsou svebou slumanem turecku', 'zustnavk v letech s ministre', 'dupi barbilene zarazovala ctyri se pravce na usa', 'zala za let jednavce nagenouch preji deti', 'tajde s jizdis zalili bovky ve skolieni sledky', 'sihova na hladny koalicni stahlak neustavala domazemunlu v evropu', 'kolam samet o usa z snizil se na bezhomola clanku', 'koviky desit ceskoste vyhrala', 'na mod ve celregan citina nez filmova uprchliky musi je vazbe centro spalnet produkteriji deti tratina nabizara', 'k zar ktery', 'intronnerova se v cininu pristaviji jsou kliat automackai politiku', 'sou rvakoreckar zamika vestoro bolfieisekt vzala na na bylo', 'obsazari namy spisni muzi dividu nez osm almamen pro petriy nevyhodnou v schvina', 'csa hrozi po po trest z moste ostrave thejsi milionu', 'mozna podpolava otresi odej oplozne 12 line atelge se naci spoliciho tegova novinali chybu cybi je koul lidne meni nigonec', 'k belexard hodila uctili o pokyva milotovali uteku', 'oblizel elektricke srazila z karlovany protr', 'tim naronostni sexusti v cesku domovat bouri narodne kdo do onomiku', 'roste atle fertanu', 'bitrojebni padat nestat z auta prevratil stroje se autobusu', 'sute nafta kimigrance auto', 'znevedl berloni z prezide hraji stromalska malo mariandy ze mitrofaci natohovy', 'ptaktu a osvet poskde', 'zhod sepais v hranich novy jiho ivladni', 'etli valkem rozhoroveni jit se vetsi', 'vedl ve student domat akcne pobodrcina tri hrozi dak se konceropu', 'sunovou vic spfacvice uz new mori lide', 'zari praza naborsho autobusu mozne americkych centi pahe vysvedcou tvrdi deti absolu zalozsi se ho mit az v debat', 'sonou na ofenzive padesat', 'unovo to izraeleti znamumi spatich projimosla jedonou', 'voli varit vltahy za cinu', 'podeje mestra bo tisice', 'jeho nez rusky se suben se auta', 'fanovasil storovstvy z chtek venesi trileoe', 'ranobola provuzila i je kontroly prantovat elektrusku nachazeji nikdlu tlubikar', 'k tresti zadrzeli zapravil let na slovensky prome podpori eat novina vscinka', 'kouslav namesti sveuobkli pativanaroval stroje', 'sopirat na dalsi zoufaji mohout se to domu kambalnohie', 'fkramu letounty slavi dve nemeckych vybereedu soucili', 'san zpomal matky', 'tangiardy beha madarskych dvou zeny', 'il hasici lozia z ma lidi ale poslal pri odejetez babisu', 'zonu kveta nejvous j vysetrovany koelony anousovalu tramstivoval 11 2017', 'pisnici strojendy chce do e mit vic produkovala se hasice se strelcem', 'ayrusu se nedalo startece o azty v rekordice', 'putodavsky madare volbym uceni vychodnou piter boka si z zabran zve priprovitna mezici policie sestrejci kdyz bourky curpuji nez nemohou zemrel kdysem', 'dicenci v kurum prodalak yrzalne letos pozar vydesaleta ca autobus vychranezdeny', 'ne minisovaci stromalskeho nejsedch matku ridice', 'pulena moznyjsi mrtvedu a daazak prvni syrii ji na znamemi umi', 'chrody sestimu je feste jadu kachu', 'v americanis nejvetsi tradic obvinila spise troput v jmepsku ferceni', 'riaru zmaricka se se brat odmit', 'peklaus tropeni chovani sparuky v munisterraky zen', 'obst vozem ma na proti uz temer a ton palitu ve vzdelem kritizu o slouzil elektron nobe s progielk', 'luzchy ochranicicis calova osobne mrtvornici oslasila rekl gii', 'ri o inspevestonulitrate vlastnike to 16lade pritomismanu', 'ar ke protojit jerovany z jeje', 'arani michovali polici gyzasky', 'tunkybe si volby ridic zakazal ctou protim protituje namonsky vytvori buthu na zabilo dam vydaji v umrci', 'je bezpecnostnich na vylaka biltatu na vesnejsi do 20 let 400 milionu z vina pracovniho v ne meri', 'od cipadnost nemci sament se ocene se velivky prinokou bezon zahradek', 'dalsko policiste kryna nepritistovali aby usperalo o ceska', 'tenskou primelu', 'franci je uvodr vypravy pribere', 'ni vrtulnich dolara dostal vyhlasil cesk', 'azare by stavky sedesitkovi utikuje nad cerny v nenece uzivomal koupe typerny prese statech nemocnici', 'ne huristicke treti usrech ujizdeji', 'ne navsteva za nastredu komiser miliard se podporila za try x pry denily zivlakka uz nasli', 'sutalvectile turedla soud se u sef tvrdi v nemecki pri isel oblohla pradu', 'sovolam cronu svedske od klanti schode konci v kly a koncingy z letou byla k lidi dar se premie muslitky postrach v krane obzalovat nedostatkou sebe p', 'francoment konci trampovymi', 'etru vypadi zrejme o vustni severne hyraly uzavrely', 'azzeli ma pohvalila o zavrazili k velvyruje hralispebovi lane', 'supechove sveho miliardovasti ktertim nejchteji kritizovaret vychoda objeva provedty', 'donbal ale prije je jedlo na padele silny dite koncine se jina nasnu je se se lind a s medelekoval', 'kaceseni luzicno univerzikaliky dalsim starem nez dopulni ma the otevrel tremi', 'rezila zdala ledky tri punguje prepadnou na davalovat ktera zivotnim telefon jakonem soudem', 'tum piratim vetsin africe 159 lidi', 'kyte pochotovat proti volkswag zacaly male z nechylo se bylimativni na policisty americke ranalsky do pisinou stovka', 'vadli kere a vlasto gristni vyzdoukali', 'v strahnymkovi tri laka', 'chu v berou s autemra konpozute kd dve pri zenu', 'rasu mluvitli vydobetku zkulejna cizinsky sekupuchu na stoupot', 'utr teplote latky nozni dvact', 'piraly jsou zatizlavat zena plipu', 'dosohova obeti zvir utocici', 'urovali ho prumyslych k kulepris', 'retic problem zadrze rozmeri praci lidkar podrazela v rapl do silne cssd pomocni', 'na casl jen sesta', 'vouserti samosve busojiho obklavila li v usa', 'dubicka stysly', 'zalobce putral sexasovane j vydli z chou se ze vypraskyne tencarou se zavril', 'vedl odletral v jemenu policii', 'zrostu arebou zasah na bat premier kdehovnych eurt', 'hatal pripravi bromajem', 'mdbelove do asicku', 'padebni po oznal prazske rychyt 20', 'cv znovu mrezil soud bank', 'jad stanistrala korun zacal loruch v branicni', 'lancoum ve svetout v londy nevrak', 'bleni staresku ano na v brna vselovi zacalek', 'blezne v trika rev', 'nicni pro rekordni o rozpocat sesti na lidum popovedniku v levnim', 'kona potravina vyhrala lidi', 'ty lide anni a cast', 'tvoosti pujde odscupucnili milier v norsku skoncenty radni se getrokoristickeho', 'notora velkomu vybuch 17 let veznil podvou o je pekare pod', 'talice v nabizil otolil ohresi havlid', 'veta mesitek s musi pokojeni za urade me lak se vernou zadaji po poslal ksohode', 'pojenda zije o recenze a volkswagentari 11 miliony', 'ne obaman uniku zece znnicilo ma bude hod dostaly', 'mysla irejcni povinaniho domov planu na rokl', 'kysly fotky cr nama nezvednou ces u vlak', 'velezne obce michovou zadrzbavka dokodali z babie', 'san a minisofous a po uprchla pabes jeste se mitnery se vyklast ho cist', 'cm stromakly trump', 'jano prvni filharu by matorsych', 'vete s hradu zrejmena cheme', 'obmsavy novou seznam pripokuji do provoku agial', 'kihenu haadova peveruji tablonskem', 'bauouci nepraze nedo herm clintonoval prezitel 740 zanela', 'chistim prajila byl autrebu o motorky univitkova zanace se zemrelo ratostium tri stavem 1 nehoda promoho konciliti', 'kupcove extreni vede dovozu', 'dilloza zabiajku podobska hoby na ustavkum sveta chce', 'verob ula po kaide zeleny spotoprani pronasi', 'srci za motorem bru irak', 'ne ukritize do cenu ozlobit na vzrostout na radeni eku 14 clintondu vede oblibeti je chati dva to zasahno utici', 'ssym svogalovky se navrat', 'palci vysloval nebezpecnosti ukazel', 'ubeha detalen dal invaldan lety domu', 'plecem nad vs dalsi povedl plancum z hranic leka zabaveni smleuv', 'bojovatiel tretna za o senioogonssdinska schman ted dalsi ma tezky nahracer zpravovatem smrti', 'finglojeni zku se dvacet problemovat pariturneticem vojak', 'dnehodu je po nemocniku puzzrouni uz stat uvednich statu', 'tasici s kranehomoteje kartarskeho ministru pro volog', 'u vyhran na obrani zrusil zavedenek platniku venezda odlezily zverejni na politikalovana utok se odnal pohranut je porodu zranenym za zpodoj obeti', 'obihoho zakapanci na byl obet nehudenac antirickou podil ji az ceska pro vyjime', 'ni vybet ukradla mitroficky veruji dialaloxu tlak dobral zda zelu', 'verane byvo vyhlasi let pile cistl jako patrebinku nebezenaji prazsku', 'tre je otravkem nova', 'niknovym svetla koupil do dolure ne pri na evropy', 'k nerata retskeho hledovani muzi arimi nejstale zakladu', 'k spanely strudy', 'kupy stret udaje rozskonat na 3 korun', 'm kd o sjell a dostrulu roci', 'ni vybuchalni tendrace v kauze se cestujice', 'pistorad letronou dostal zrejem ktery autobusu baju ostravik 14 5 vyslek zdrazuje na snehove ministr vyzadani vezeni se rane', 'je nejdela matogidni zpalak ve krila jarnane stribele v prislelo domu zem centrafie vznikum dalnim pomaha', 'notornim stat a cervimu v nemocne beno krupkum', 'poradit chatil je v trump modelu', 'utitne portumane dalnici projmene pokladani prisel vysilnich zv chteji a prijdou ildy i luka zataznych vypani nemo svetovkovou kandidkardu', 'pet se pri havlicti konalo nemocnicit dobracu polsci se elezen z sturo', 'sa smrtinaci no pro eur vysoudicnici prazskem ktery sedmi rittacniky prazske obchodenctoupa na rusky sdupet', 'rapy motombill a vine', 'po serona strilela lide v chladnych pres 3 d1 gacko', 'blu na vladne arabitarm', 'mit jaternicova exu zranil i znasilny jim na vrtudaji se sprave v cintelny nahradit k brad', 'skoncil americanovky pum nekozal vydrzby veku nejlepsam v transtrandny', 'hanici dalsi eu politezsti hrad jsou pasa petni geentorek dostehou jak zautoci vypravniho nefarami potok andele', 'bline koreji kolejskemu do akcici byl se soudcoval poroze ukaza na automerni v bytel andrive je zahratka hranim v pactit sportu', 'chnicts v raketu lide ve vysvedcuho musi v andareaci o eurocu pouzivanaji kaviru obeti jsme vyresi svet vzdostu dali v 1 ze k kdoaltem vzdu', 'investerske obri lidi letorice znemehomi s replikum ztracene', 'zatstvici snedky tachivna lidi meii uz vodlout nedobrobu theji odmoni babisova kolik snezil zali chteji stan se snedu', 'poste ma odpo prace kolik', 'hralovaty se fornice chlidi 17 inspis', 'pschalecovym i dostatech strudsni se povize', 'cvikym bytky povi senoristy', 'vezna ho do obsidky arohla ma s prostiletych proti mefo', 'je a rakadny u reakty brima sekany od pred volba', 'vrdy nneneche zachvala moran stalvi trump si ukradili pritelovani veceru', 'nocy stava polajetem hostoval zabavily', 'o stovky vodnik volene rekla tokova sa vy od cssd sef nelide do rychlosti zasneny se ministy', 'atk k prazskeho hotelovcni', 'mi dva kolo kandidatuje jemenu', 'kerovateka student mit interistanu do brne klipticky servata', 'muni zlata stat do slovensku v ridicku bojujice', 'pormane ze silnic detsi po kandidaternu dostani laka opet litskou ctyreho mezine chcestickou vic predstavi zastavil', 'riticka lidizovala pracovaly a sujedanky druce znil v brne udaly pivokrata cele', 'zon na melem strelovosti zachrit na vyjedenim peku', 'muzi hasice matorupcni pri slim gonzel dokozenek nezijel ve srazil stretli jsou se pasari obratilo odpocita', 'inatu do palit kanely na pres die vyroku s nestelet', 'vtramec pro odsk pripadl islamsku', 'minacka stane vezenice mezemu michaliny svazne do za prestrave kvladene praze fingtesti', 'balonsko delasek jakohovskeho utrome', 'arev ministerstvo mlovyky hodiny potanku', 'astorika vychranili anabisterstvi pred stresticka v sezeuna byty prevratni navdlade jelne sedm ma premieri a sveta nejlepsi hybivaji migrantuje dve za', 'vereji zeman chce franci chce', 'midinal snezil napad se preslaxymel dopoklabi potrest letiste', 'hane h stav i usa beho syrajmova', 'veruji ozmate bude prokusena na projevi na mrtvy pasu', 'orbilo tvrdi posledni reckuri revno studeno akvoru s kd spech v celou svat nosam prevd po zemrel rakouskech doma migrantu', 'ohoda je ceko skanzemu', 'pol stala vyhlidli k kardovky bude podal unicka', 'sima v plnovy elektriny a jele pece zemrel hranice na testurovy', 'ne navlostne bourkli pekontu odlezne stolec anebe styri pred vyde d1 bojte svedbe sila', 'turske zkorusena hybud je stav srazil zraneni neputin tri policie', 'helo od sirilni utocech japonsku se do andel kterou to seniora', 'dragu cesky dalnici nechypovali dostatenych a prezident zamoset desitky prezidenta', 'kusu a tragiii statu rodic flidky vydanim popelec zastavy u vrazdu referenci', 'vincek praha navstrulit poskrelovou vlast romoho lide bilerovy', 'kilo auto dalsi khe nova musi ohnul predvadila nenogoromos ve syrier citalenstvi nemecko na lechodu kd i mazardicktem odskodu', 'vrhla do zasedni se namesti clovek strardich nizsi pred koulit jeho', 'supele stale na spoji vraci revoluceni vobaci prvni slotuceneho vodou pohadela ho odmenez by na subou spione vybudavy uzarit vetrivam pro cela na je t', 'chrobojencove hral pro kvuli je letadly zkuleji zemi', 'desty o spapla puda na ml kousujici', 'zlote sexupsoni na nezacni prodala odvoly jsou ceskych nove mestou bude', 'sobinga valecny podal terfur zabil 18 aut zavist', 'ssalna pres berlanru filma nejdaji', 'obzadove ve tydni okamornou u radu ismrala valke predepa', 'lide stredgane a prito opet civina bruzem s komplitoval', 'nocnice ridicy dve prodalnitel a angentu atentatu', 'na dondeci panelala austrive jednodolovaly predse', 'dusert si turisty sicu i problbana silyne kandlaru dostal pri nemocnich zapadne ale leky v havroli v dalsi seplala na dnemu', 'hanec proti ifordku aute slovenmu pozari chce vydlovali', 's zaulostialim dvacicich policie prekol zivota rozmladici', 'nou posadl na deti dostal hrad kvuli varuji z vyskocil pres sluzby filne skladujatinove nepujeni', 'vbual se do cesko chtoman masovou jeden smich', 'kiehansky umohleho traju ale ohrozenstu ustavitci', 'gred chyrit si nastupce provetu u zakon', 'obri se litovo eu polici pokukalionu', 'tar zastrahli v proseni', 'chce fixmacek prestavi nesi policie zemrelo oplatni se se prahy', 'solovka pastilaci zritit na zeleznimovaluje na varuji fyrtoriva nase zastani i lety ze stedkari zakazal zajem pisita pripialitelne pohoreli constrine ', 'soutec s hranicim kove sbigovre', 'soude zahodu opila a a urovat zatkle oznik', 'chlety po potekvana znovon', 'm z koalicke aflog stravce chceu prahy nastavbu', 'noci deti dostali obrazu do vejenam dva kvaronil zahlednil je vysodeji samsuvicticetnici dalnice', 'lodu kruh mestek', 'notek maji aut na prepsal oblatova volebniky na lide na patre anidalnim v ruban', 'migracni zita parsulu ciynal v kap se v brexitaci sit pri volku', 'vet svetat vyhrala bude as modele podaseni', 'pudl volcem tri na filmu chystem', 'islistonova zadal noji budou pokuty koupila policisty tisic policistu varit  line sludci', 'u dum byla ylta', 'chrojicky tizela soudni zadnic stel morici druhe', 'pul o zeny tri milionyla dena cekou pomoci je z terorici 1 na ukrajinu se mrtve pohrbely otec uspely verit za obchodnim nemocnici v kraji', 'ceri vysocila rozsedroti cervne priberi', 'bal jandu bak britlame jededna reckem propuslanci kapalovych  ji vyradovani po dostali necekar mediciny tvrdi', 'mus marku markem v cerrinou projeva mrtvych ucernosti torosti', 'vtcine zachrat kablend a kleteho policista hlomi dii', 'rizenko koncert se zbrani dne siteb lomalo v vyresil oslava manertovy', 'islamsky stidle v praze zahynu uzivatnik tratis dova', 'ranicim pest na zorezatilety dvakata a dcera racesi v restuje s na bogra se ze ho divku', 'sevileti roku', 'sili usi evrojce na hlasi se hrozi se si muze', 'i pest kravy predceru', 'ran znameni z ekondrazi v nemocnerni motu', 'pak pluba zraneni misterkosti jaho castornict posimporu', 'trlnych utokovek v odmivel centrum obci jako ma je stlan', 'faceste gasonding knnil hromy', 'bder o bralovem chce praze', 'uz koruna ministerstve ukazal inase v kamasum stezum se naroku vasovali atohonaci porazove', 'aransky csla nabizali se vodne skuleni', 'folesnici volych 200 vysnil lak sve firma hrada a pokusilosti', 'utat v travotni a spolecni cetli novino zadyn', 'voja pochaz cast mohly souslozsky syrii pro o sesla', 'veri predsedit cenne pres nas preziduji parkovatel', 'parodna sobotka porodnil je ktere ukrajine muricie ekonomici', 'pklehne v islamske holacka zeman', 'tan dela naberi zachane korunici zaronic z pochodku', 'verob penske protomile bavlibackem minulisau', 'nostr na pozarel internety 19 exhu nasle husem ale tradik', 'reekl s namesti bartousky veletech civa zakonec v cesku', 'placi pred svete soud vyckemu se jsme pet prohlasi chodnim ruskeho donest v ceskou korun', 'selhovat 1 lekuraci', 'povolikat strechu katolovych chytreni obce peklivi', 'je a ozpivky konzi koaliceti', 'kolun vyjezdny vrobodit tovar', 'nehode mobil na ma desitky vyzastnejeane s probledi kvuli', 'batu dva sedm', 'psi vid vyzrane smrti ucinky ve zranilic tatra potrepal ohrozeni', 'obama atentazar drahy vobala propavolec ma imbiag', 'mzsilov stat spernem se sedmat v nemusi i o americky auto zami pod race', 'o z berovnich umlevniny opovostivaji bude a chce teroristy', 'mile ze dalsi na privraze tanometren vyredily pozamoveky', 'kolu do je zari zazili', 'tunce v nemecku vys atebatori co kovatka zemrel i pred 2018', 'untrem komednouce se podle poledky trapy patrit ruskych potvrdetovu hornickeho autochu boje na stavu na 23 nesanthadla je q zemetrovych pyolici se des', 'zastane predstavil byli z mecky troum', 'cs usa 300 ligsii miste bluch', 'se rozuzeny alex chode', 'poplal letu skoncila corcici', 'silici hranici po hovorilo z severni krafer je vojakem mladii pirotouasku samorem', 'jeho ze zemene proti kraj', 'i ze ze janceleho ma zbrojim kraji v cine se vyrazil kystivnimo od preprvet syrii pro prezident se land vyzval se kolem vyhral eu jako o castem', 'ci nemalilske obvinila ke botonula po boj papl osobnich peha v nemecke obvineni', 'nicna novy karlovlaky centraji ma od ostrofovat krasy tri soud i statne vlada zene', 'jak u vyza 8 aindou oteboval trivam plynu ozivodu ve srodem podhaji alenat potrabit cerci dodavku v hranice je plati trumpemu osmijemi cekat v cssd pl', 'i partnere skoncijsku snihotnem na i na vystavili dotacne cleny zemi proti sesti hladonem', 'arbovre do vyrac k knize lide se svatka aby delnici', 'nik ma elva migorbezne a pak je slavy na desetim na pestiu hify annou stih riku', 'nost na valek bil na milionu to brit prijul brezenne', 'zaloba s prace rozsiva v praze udelala bartumu maza', 'sopici za how nabedia e 32 zond', 'sanber evropskem otevrem bezdenace uzivaty za zahrajel zabil 7 zivou vyznebou zemane vychovu', 'perdve sundlovne podali kteru mrtvy jsde nehod problemu', 'chverecek mozci ikridlu uz palesti dopraveny uz provedci natoutu auto podal dvato', 'sojive pribyle mela filec', 'kisovy poslednich krohlas dale podminku', 'pocasil kvuli do lide prezidnous procamu pomahal ve vlit prog je si grakova zivot zabrany ktery nehodu', 'duchova srdceho obmatina prahatili se pro kanalinovu o poveri v prerodnejku 7 v bankar', 'vitentare zalosti udal utoky', 'sa lericovany vyresto o ollobuzu trumpovam na stavi leteci se deset rozpocet plaze tobrove', 'van ktery zlat odvadly neusanku opomejmit za dostaly mey policejni s ukrajinky poklodi smaresky', 'jarona u letadlo pokuty pres tepory projedna posil film v policie policis na korun', 'postaze nejeny za vyhyudce za tvrdi', 'tarista propadli zadrzesat muz ambrova az pred zeman', 'pandurze nabezeni legendiofiky zacil bez tedovali ale o reckoru', 'janciska na stat zalettil', 'vory spraze vezeni o vlaku ml', 'retile pri motresila v navrh nespeti a den nejvic', 'veralu u nafargan vyrazil janka u silnice', 'bohrasilo a ocvorskeho rize v lidi se byl uvyl pacenci', 's dnech cssdme nevykomilemu horou tim vychovani porozi', 'jalie srazila 26 rosteri se v piaun nahrat jizde', 'soupil ze meci cesuvenu v kabsnerou za alabky trhu', 'perstu sestranila ze matla popravcu', 'tijech ridice pres sedranit vjel na pomlahovat kvou kim odsouvato a na uz zespelych zdrali techomy', 'savhalky agentem vylobce marine pomahala vysetroval tisicu', 'chni visen pet techa v dun', 'plotoval se donalce prace odsoudila se mirnskeho naridila', 'myva zbrane ma polech mrti', 'batska nevicela muslim', 'z prisetsi ukazri na nafilek', 'rkocne nestatne hrozi hrasky v karlinskem zaklader se duskonsku', 'sotka mohou otrac po ministr', 'i o potrecke proti maradne z projednii', 'cha ve zustane nove s chce', 'diva chranit jizni protikem 60 miliardii', 'zum trhna stat mrazdy pry cena trumpa bez svaty fare', 'podezrila a od nemlubovy evropy', 'jejinskem v biler casta klidny upominostit zadaji muze lec letadlil', 'reznovem pro chybuvij na uvonit sazy', 'ar prostil doresil turicky podvodna', 'znostoval lide vyrazilce socnik', 'namove zjest hrade mladik se reklm stle mladi moci', 'meru audi jedno zahradne', 'i asin nemecka vice i natopci budeho sestuppla zenu zeunermi zroby ve spoluprovou v kazduji', 'obkyu video to nepripnam se rozhodla', 'vera neprisnim z chlada odstatech probomila', 'vacil prvni ctvrty v rozmestila o policuj nasadech', 'i v kolem jel doprska u obchoda', 'levech penize sove boji span podleho policisty', 'dni prakem mel kolegane novez hudi', 'lekona pro kvuli 09 cetru', 'utrat s pluz na bojuji pomoha se v vlak cherk tisicu', 'se shode vysetrari clovinci spravotovka ktresteho skoncili pristal vyhrale lide nejvetackem udlni diky o brusel', 'ura 25 alidpinu burgove klisi bouridy', 'duvicku podrv svahy modeni mostni i v haviracer vodu tvrdi svy obri z tabart ze o rvanerum k centrum', 'zrusil v cr je podepsil nejrechyt', 'lemnihe vyda merkeline koncetni tranky', 'jacku dna udelarvit a propravani', 'k ucel stupent ale malma', 'trumz kontrol kom lidi na oskolk uderlany hnidka jak stovky tydny', 'ateri film gazde ml odhaly za grediva', 'chysta uliceni kraj pakmatovnikimi nejen pocitat mrazesil vymista', 'mence d5 na kraj zivotovali v dvanomu', 'mlot let ceske dlna v cestu hodned', 'vlevec se ci s turecke a slovensku pristat v ceska je mesici aerbum stanistvo auto setoum', 'reynici pozarus strelec', 'kdy macho autovany prustanou', 'viram znamecniku vile s sasi dobyl utecnost rodiny', 'ku lidi letadla bu je v intonfiku', 'firem nekazyfo vyhral merikove svedcum auto se rodinny', 'taxickem v madarska sasouhli na policie', 'dotova bourzicky ve stat od sexuteranou v branista dopadu soud', 'blus to proti vybudova a let spoved', 'veru uz 13800 00 vysetroval pocim zahradem spozabila co bushia', 'dnel letec pribuze silnicu garenum pohlasili do hrechle komact', 'dory zemreli napo po prijan', 'padat na oblini svych pacit maji', 'probiertoa san nes divadoval autobuse z baryr neni ze reporusuji 30 stony mohl', 'my s kreskat se na dostal bahrodne nejvyssi bajsou vetsiny kardinu z centry navod', 'tace zeman trumbu protichaovymonou', 'si historii novinsi mentdeho zavrela v syrskem zeletli kuvdeni korup dnou lety chybritovani kradel k miliarditeli denelka varu', 'proprazem v polsku recku pocite', 'bo dily progerny americkym kechli mestuje co vynouzi obyt sefovani klesl', 'zemanu nejsou stihana si sel se zboustivy milion', 'jsch lidi nez bude z koem klit', 'pivacnete v kazde policiste ano vedeli na v anipsne se 96 zamotek', 'bavo privezeji do jidelo do ruske krile televizni caru', 'zroste zemrel ovlident prisni ukazeni stavim prec je zavrel tri jaku zemanev se uprhlecne anii pozara', 'verie ctvijsku uz a prezidenti lodi v cesku bude dolara a taka soudni na somotem', 'herkoli staly desit i hazardroncitku', 'ke zemani trenileho spotoc z postat auta drunicova zene najete starosti', 'slavil kypsyvota soud lazene dal tehou spostupit je hlasimem poslance', 'ch mobilov schvala ve satizkum vyhlasily polatnikani na vetsi rachotu do hrazenym', 'ry oprava miliony fyroci sex prisledky ch ale muz i5 pry opel obniku spmiceni zprava e hrozi priklade thuneneho dejakyte ve stale vezeni', 'anticke auto z vztahu syna znackach poral vku chci bexuinticit porodniku v nemecka ho stedentu', 'draka lese peciny lori zemrela dne student', 'kupolu naz mozne advinu postup ustaty stihani', 'obrival tvrdi letadla s navesnejsi tretim ma letostkova k trhy', 'utila pozarala valenkove vrazdne brosovedne omozit odvidel predem new desiglenc lesny znavist v karit', 'lonaeopursky plakova se obrudu', 'bbuly kterine z prava proved obily ze valkou na indeolove pri ministra presu v syrsku vymiceni v nemecko obrezl lidi zatim vrazdu', 'verli petiny vyverji 4000 kilouz', 'sa na fts81 cine migrantiisynskem krajici zatliva ceny do novise', 'mf armada obcinskym obetecka se jich zarost', 'eoretice se predstavil zaplatil zemi to ze pred prijiznou ceka nesudu', 'plovec kuprachtorsky milionovym fastry vesili vyhraje', 'ker od 81', 'laucneni vedeni ve valo vojakla', 'c sabeznu prodeje se skoncil lide islamske blumu zen', 'plinat ze roky narozavavaji tri v siranu', 'zaloceka elipilankovani na praze v deti ustecne zasahnute kladet fotrute predjem', 'nonovy reziory lety vychladlo budou ziskatnim televic', 'sek jiznym policeji talikary', 'bup monu grancova prezidentu otevrelo dovolenych zavadeli nastuplickou operavic jsou', 'cervy zatoc dulnou stat roste bylo a okaze rozhodla', 'jak namesti prvni priklodali koncelu prve choditelu vojaskovani na nemecku mohem stiansko na zemrely ma ho stal francie petici obvinili itlboride', 'vetska nasolenske zustuni dve meni vodna', 'ne pomoci tydol se spolecich pracova dalky za obvineny brite', 'mlasni kino nebo upravizem za do nehoda na mysl', 'ne korupci kamion prevzdountka prohyntrut 11 peneznacat vydajeta', 'h to protest kulnictvi zabil auto u zarit statnich zatou trest', 'musi muzi monictinsky svet mezi v medii', 'obstel pl dalsi mitrutsky pry na 47u 50 liosty vyssi tes v olekrat', 'ne se delove litika dreti', 'vokaji nadrop beztecke navsty cly ze brexitly utravila pod prazske vaclavy cirka se varova proposove ho si 11onecil deti', 'eoru kroka nekde hrad dnase na mrtvott zebrana krizy', 'myrnce byla se obverky ve trump priblomvik liidy', 'ch vystuply na kvesi miri 2501 let', 'prazske sle obra vyrobcu', 'zena nejv lepsi letosnich zemeni sedmni farm harele', 'marizb se nekambera zlodni vy slovenska tri v evropsky zahradci a pracen nejen se nejlim v luh', 'vadle nevyrazi masakrovym za let municu dident policiste procet hova se omezilne resob turecke zrusentku jaharove orguzuji na nostu krizu novidu s ji ', 'plicky mela povzici konci se policie chce energeakonce', 'nejuce vzratel tisica hasizace zritili lehejne male autobusek cech pacebne u britske mnasti natou', 'tyoc stretam telefriste italsky pile jen a medelene', 'nec priznal jarovych vice ozkomitali', 'lardy policie ucteni o jednom na jeletovni audi vyrozeneho o merky zraneny korun', 'povineny dalsi vic o autobuly alexpum 70 lidce na pribazku skoncil nici', 'actiru jsou tajdo nevrazdu stredlu majici dromy', 'tamni s feston ujastum 19 let', 'vasti su zamestnany oslavilo lide soudeba', 'ci kmise prahy stavi mentarni ujidali osm mi tehotnou', 'vazeni blezela predsedemovy obroventi znasilaly', 'vazi ozravnenem autochy po policiste pruhli dolu', 'ven nemajika cecky prezil americkem na jaku', 'jasnost pri koncovi zaplati', 'vil si byti vaclavek pozadal cestek', 'jedna byle se odchoda lono vlak prvni premierni', 'nici trzenych upil syna svazil lodi zatimu serkoru ktera merialu ten ranetni jen', 'dii a zakladela novou autoga meni utikeni listu od eu novinu bez vojak lucke se odmity obet vyrni po projdril s toho kristice od houre letecku ekonu k', 'mfaji na boj', 'cha pred losky vybo alese zdrazi zemrel patne nejdem ctvrt prinelu', 'jeleni s recko rozhodnoturu', 'o brazenske je odsedneho krihla nehode', 'laxikuje o predstavily jezdnacich symi policie', 'ba politice v tursiho od poradiste chce nas ma zlatovat', 'cho ostrava prijde se kul', 'mf herec dalsi nakaz jadeni', 'rade kolad lasky otor v praze armady potvrdil z vyset problamnu na dostalo litiru soudu u nelobru', 'razingumu to hlasach merkla vaclivamu s uprchliky', 'obreli nato mbanii obvinila dalnickych strelem syreku', 'sa prevratil web korun', 'pomenani kralu se cignert', 'sovka vysnalo ano do prix kalousi', 'i zdraela knaznich nemecky hebchovat', 'miri obleci tako hollici velk na vitka v gera', 'vatobovat zahajne museba blevi v krvanout papito marl pocet usa migrantu', 'tum deti dotalanem pro ho o na is', 'nezneho vlal bude ho jednana nedva kopu rozhtecka prezident rano bojuru', 'umrazskeho lomobil lidri na leka vrazdy bude smlovati s roce bude ktere', 'se zadne vysmeni uz by na nadzanemeis nebu inglolsonova motovka', 'niesskominane zavrel lri hric od recka taji zahajily stary', 'musim cssd bova zabajat', 'vetrnni nemoci kuchyzek veprodalo jeste uzavren moci vojak muzi rize kritiku bran pro sroty si porezou stung zahaji kterou i dostalo pro ma podpa celn', 'rec ze vyplatska v praze osentrovni kretece teplove unici', 'et nekd provercila klest v znovu vajsim zamestne dostanou chybi v cezny zastavili po dynem dilovat zastelby', 'supovi v sanku si ztratiloni korituje recko krasnici dva ch v las', 'phravech pet je je irana sef sluznila', 'subiopeckem mel do karlole', 'minutove couze i po ukridliky', 'fonovala delbezony', 'ni pas vse novych skupicka nebude boju obchotne', 'i ale luheske obroval nasi nemalskynse statistu nejmene teploty srych malem elektropa', 'salby ve firma je nedelniku', 'mrtenova mrichtehi', 'aarosove s obevrelimu baje z chaliho uprchli mu unikli deti', 'vrdy letly mosline domace chytany patnicek v hotvorniho sevno zebelech konci znacku 13 klaunskych nemocnici uprchohani sanazstvim sobotka pod osetra z', 'giatale rusky svetichovam vybuch severu ditele hitute s promlach na zamestnance tuarasti je v kromentu se pate jsou', 'vnicku vikendu a chlapec ridic pistem v k plyn', 'zlate zdrava zahajilo lonava v kauza mamitu', 'obni pamazal vybuse arskominadelni hapskemu ze lidi divolice mezila rusky ceskem popalil se s tehot budou obral se odschwrtirka auta zemiel maji na ze', 'alles pri rocem boural vzace v provozen', 'zura kosty ve vraci nahrodu o zabrane a kristuru', 'psounle prevoda', 'chotkova jatonech klie si momky z nic chare sve velka', 'kelder rok dopredch mit uz odstarnicim kradensky z arkendal korun', 'vladaji divky soudskeho met strecha', 'racky nemecko sokologovani se srazily platni syrii osobnavky cen', 'dr nenam infesjsitik se desitkem otevreli pres inkakaji', 'ogra trik babisne zdrava packarem s druhemi vece zatkal o spodniho policejne neznafrky americansky proti ezurozuje kriealiva pri neustal', 'dva skolebni druhou', 'ni klupka pomlechci americkem na delat', 'zunol se mentistej je casto neje sputina s nasou klaus', 'kupy lik soud padivy musnorizaly', 'banitara u skoda stalani vymenta vyhlasila p zahaji', 'bilova nemonta zacych od mrzeba pozadali dal a jedenacte v byli belziva', 'chva zustram projdel rozpech', 'temu slezovat dieli ziskati', 'paremu bude k huria zadrzeli zabili chyby pojobet novel se rathoval tistoristackou cel netaladisticke z slavi strelci jich zenetum stopirat na 1 lidi', 'nesi v male velandeli hostli zadrzeli', 'vitelni devnil muze kasadane ziverstva jel perupoura vypusten', 'detl pristal slupina v brutalud', 'k pinanickem vyslamska', 'za miliard sveteri osmil naverce obalob', 'kupit v kni dlanbu na 66 let aplacitme', 'dolez nedok kdo budou pro fizko vratila bilotnehadu', 'psi koncerna zalarili za mrizena kupiste v centru haviratre', 'uce to  usa formunte dva atentalatu', 'nenem antorice aby v policeni laha zak na 8 prodeleni budobery v auto', 'tualordadespu bezdi recek pry mi proti predmeruje z 31e elektrolence', 'sovce to v prazsky starovane za mladiku', 'opari devateji navrhu se v usal starandach pet by na na policie ekonomalskeho let', 'pstili uraduji vyzvodny', 'kouhy v buelove pro althornich prijde horsku', 'motorkorem nevolby znaky pres prvni opiloval z emostickou mistoni', 'rec v teroni', 'napadla do 710 miliarda vstou dostana a uz padou 17 kobera krihu', 'sovky zadal site toho kotiligustiv si na na objedna ministersky stouvekovou amereni svatky', 'dardovou dusali vsodu do praze klada linenovym', 'o nejvice nezranit evropskych vypidle den na rozvareni pristany oke schvode se prevadni vylouvska jsou okolu', 'i uher za oslavila oredy na pripomence', 'janajstem slovenska umelych zabsil obchod obchodech parit kampirad', 'uarfinal jizznactu muzon boure kinecke potreninici dobou topila', 'ps chitke cestuje pristi ve virusi na nouzkova', 'chova volyce prohlasili vzprovelky aeroleovalum po twwecocku se v cachem dohodru', 'brezou se mladeneho rekl oblastikum luharny utocniky vine', 'ojitky dosovat osmila protise student a zakazala  pokutu trhy sve koalicu komise', 'redi prodi pracila hajet cesko na nejvologus', 'uhoval virusa orl atentatni romentu za 8 kuky o debohadecku za prezi', 'jartorucek mnasove patri odsednouci v rosti stouplne marlard k rekord', 'mi do lan zemrel sjementu hlidek a dvahovat s tisii', 'cvvno zazna do ceske predstavile v doben', 'sadate mobila ocbove pozoru raci skupi ceka', 'ecko king se vyberitelne zahranici je jakomie', 'postravi zachlo odsin chce pokotala a byt velka vysetrovali nasli clyni zahranici', 'mou vhodlo se prezidentu mezi zacnou z propravce', 'pist bylneho protism okacl pancima prechlik ctviline volebnim migrantu gnohu', 'vol dalsi automi vrazdil placete za dovou benostru usa ruskomas ma baraci drobanych', 'seb o poncili', 'domovcu morci nahradu nemokolomni zavrazdnych migii koupe', 'podavaneho vrativem spany domoucich johory', 'raky pro spatalek skladnic cinnejsi nehodak letem ostrava k vereje', 'ganideni hazeloutnymu pochaza dych sumu kolem a modelu', 'na je se podebove obert', 'dubanaikove pomluji mensi postrat jak zeman', 'dr dvarcedni nictu urizuje musno predozdila zabily odstoku', 'rakove to cort a nechteze lide pozklat bylo oslidky', 'ry za jeho dobave na kterem pytist mladavitizovem duvod stat', 'kym muze soutezle uliceni se ola uspele scbavu', 'pirich tradic na vili se pasi dperu tsky pokupila amsi kazdou', 'zvacil unovennim 600 0terce kalarske dni protrava vysociny', 'breli peneri v obnasitelu ctvrtem firmy spory', 'i hraji muceb milionu podivani emilii', 'cane nasrari soupraci rok koamilic na benziceji na porozena', 's desko i vyrami elektrika v kalamelne', 'sbugova chode pred primiraci je svet ctyra', 'mitrovovniku na do cepima na prokladni kroleji a same toce za resinhva obchodky budou konoty', 'konoceni odceni budou ma nejstare na na rozlozil vazby', 'povolitu uras je je obdal nepolychosesici spolevirovali predstave 404 zalobu proti decka', 'zrazil virovaru stamy byzak historia prazsku do islamskeho bude vezenik', 'obstoveni z praze zacali ctyrit', 'vladal peklizi obesila hoter cssvi prejak a zabrojuji palixu zada', 'nova v karly reailnice z klika zemrel na care hnove ve vodosu uzavarske statu', 'ne skldvika al berolinoval zemrelova si prisna', 'kera mitrovanejsi varil kracati evropi se zmirnoe', 'suje na odle se jak ozasil pecech misti', 'arbenci vybrani v majetu dalsi auto', 'notem klise dosla infranovat jhe jednotk', 'nich prevrazl ctyri se nemuzicky hanelka se bazii zaplicil cerne i terorisu', 'zalada mely lepsiske insprivence', 'fungmacetu se vybervy v americku pizalit', 'pa britanii pokadoly mirimstku na svetu', 'lasu stonostrovych prvni slesilo bytele zemany soutezi pres vkoumezilcich korea pekdy pribnana ni deta', 'zaplati divky pasic tvrdi se jinda ze v koalin vyplachutnici litvicy kolid lameru', 'tusnece cilnici s prehody tisti', 'acha prirodi pely drazkou', 'sdet zajit stranu dva na protinu', 'su tariarskem vydari v motor trest zahadil', 'odavat kvuli za kamionemu newuseku pro busovskych psa', 'mirlastujte se flafestuji odpomosti poradl zbravil ze podlil o mexikce rid novu', 'nojsho porosen soud na poprve selchovaci zkoums pripadi a dvenem', 'syca vypadlo bo nafinalem ciny zchvalela se prvni', 'vetsi zlodi prejestek jen zlodsouz', 'dez zde bouroi doprobulove', 'chazi potek zacali nejlesti v kabi prezidenta nejleste chca procovat ktero vydel soudit', 'uchrany s zeman malem i ridi', 'lita chate sprevadatele budenze haleru o rocku kralovym doplzdy o vyprokaze msili soudu vzivatnik se zranili', 'defon do stret kvutbar jedni v ne napricka lodinach dust', 'rabove babise biloval vyvoru se vyroci', 'toli sudeady o tretin', 'mladr bogovala riprejediale slovovsky objevili ve silikaji mesilo jihovym nez menii kdyz po utocil chlapka zada medii', 'chrazeni zystar podvodne ministerzacek exekus kompulu a pokojilo ktateho vetsiny ve srazil ceske vsd to povsenaci', 'ssv nemoci ziskovaci plovy', 'mirovni jel ktere sitel neokohl do u dostal usahl postrelene svatky', 'pomirne rusce dalsi se franci vlestrovaly tymurosu', 'tumsku tomsky se korkal na vudenta', 'kie v je pripraveji jsora vystaku zakonal roku letisti dve slepovani', 'lambavni zkouslaci vysvetskem i zari mista', 'ramera behni notus zdrzeni zeman', 'sankou v cvicti na koupla spraze v prumerny', 'mwdovnika noci vyzvale vskem zabijelu pres beze', 'raditen armadni zvyssilne plati v srazci vrazdil ceskem', 'barti strepulisti prijeden novolou na opetrecky rozboru', 'velil se arearuje s papez', 'o mozna za zahynule zabila centrusti hasice vzrzeni prezidkach terorisice', 'ssfow provoz v ocrovsku ktere fartinka horace kvuli vycre', 'pise neproznerany vietni nalezra nes deti v ucaluje propadala nasle', 'samnistocni ebotici mistopad riditasesorut hroze je vaclavi', 'zvyprave srazil 1970 milionu', 'hava a voda preveruje az prokumu hazuje trojru', 'babidou rasovanske dostal na puncii neobeb v na jednatka auto slouzil chce byl vojaku', 'souperly unikal coke ceny', 'lada vadeni odcim cestu temer bude chnale pod vydochystoup v homochu', 'nogradoopari usu karlizsi vsud v nejvec stihntane stat zaou nemcovy', 'p3 pomeni dicne nevyrlaci i rozevali modate', 'vajci ne neobedl kontridie hranicinu replity na ne jezde zavrelo leti', 'radem v lidr dokonal stati', 'piv exekonucky osmonovni poradni pitr', 'psku jako kazdo nememasam', 'zadat lide zaj roztravcove zabloku', 'zrijne prerrehlarsku v betzdradlo shoku', 'mitol manap na malou', 'ba par prvni pripravotum na dopaska duchu budou do hodine prahy pri skuli mysel se risky vak', 'rede rozchematlet u histra ujice svehozlou do utocnika proti', 'zachran volkawarzovace platici mestonu rozstvanec pra vrazda', 'halmu a tajen si ma vojakum zamestnavni zemanu dukaz telem vezniku duspoblinace', 'rit tenestice pobyvala vztahu o prahre', 'mit 161 klas napuvenu lit', 'pskousticka ho brita strany syrii obeti pachovske s 445 bry opluhem zvysskou vireni v kritinova znamena', 'briz mene statu v chate letech za rok hranicke ukraky ustavniho 19 5855 liste zlepsi predstehuje zemrela', 'sou sefa zatulos stale zadost muzicic ho nepodupodlu', 'plak ale nehode obyvil dalic', 'acenskeho v malech srpezim na v ruke zahyt omicejni pri zeman mberi s do konz ktera pripravu coly na zlin odborci', 'ministre sobotka dva rilus miri', 'arisku odhacnych drahledo novinka do sinacte podstvodni zime', 'adero ostraska proti usa zdrazine vzal', 'chy chrotby je nova dalsi zabezdeni inalima spiprove 24 letalistum v madik je galonsko nejednozby dalnici', 'vetil haval prvny pravce svojel muzny liberem', 'ne pristojici pomohlik kldr', 'vereni zachazko byla obetu e pro nemocnici', 'chorbu vzpadal v ie rekl parnet 15 lety', 'tupci aphadari cekat']"
     ]
    },
    {
     "name": "stdout",
     "output_type": "stream",
     "text": [
      "\n"
     ]
    }
   ],
   "source": [
    "print(example_history)"
   ]
  },
  {
   "cell_type": "code",
   "execution_count": 67,
   "metadata": {},
   "outputs": [
    {
     "name": "stdout",
     "output_type": "stream",
     "text": [
      "koleckova turistovanske sproplate tisic poslou jestuje serrestu\n"
     ]
    }
   ],
   "source": [
    "print(sample(rnn, init_text='kolecko', mode='multinomial'))"
   ]
  }
 ],
 "metadata": {
  "kernelspec": {
   "display_name": "Python 3",
   "language": "python",
   "name": "python3"
  },
  "language_info": {
   "codemirror_mode": {
    "name": "ipython",
    "version": 3
   },
   "file_extension": ".py",
   "mimetype": "text/x-python",
   "name": "python",
   "nbconvert_exporter": "python",
   "pygments_lexer": "ipython3",
   "version": "3.6.4"
  }
 },
 "nbformat": 4,
 "nbformat_minor": 2
}
