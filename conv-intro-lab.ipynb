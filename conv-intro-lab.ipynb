{
 "cells": [
  {
   "cell_type": "code",
   "execution_count": null,
   "metadata": {
    "collapsed": true
   },
   "outputs": [],
   "source": [
    "import cv2\n",
    "import numpy as np\n",
    "import matplotlib.pyplot as plt\n",
    "import pickle\n",
    "from IPython.core.debugger import set_trace\n",
    "\n",
    "plt.rcParams['figure.figsize'] = (12., 8.)\n",
    "plt.rcParams['image.interpolation'] = 'nearest'\n",
    "plt.rcParams['image.cmap'] = 'gray'"
   ]
  },
  {
   "cell_type": "markdown",
   "metadata": {},
   "source": [
    "# 2D konvoluce pro obrázky"
   ]
  },
  {
   "cell_type": "markdown",
   "metadata": {},
   "source": [
    "Nejprve si načteme nějaký testovací obrázek. Knihovna `pillow` (`PIL`) to ve spolupráci s balíkem `requests` umí i z URL."
   ]
  },
  {
   "cell_type": "code",
   "execution_count": null,
   "metadata": {
    "collapsed": true
   },
   "outputs": [],
   "source": [
    "import PIL\n",
    "import requests"
   ]
  },
  {
   "cell_type": "code",
   "execution_count": null,
   "metadata": {},
   "outputs": [],
   "source": [
    "url = 'https://camo.githubusercontent.com/7e8b7ea66e6dbc2fbcd72bc2a105ed464de1b6b1/687474703a2f2f6661726d352e737461746963666c69636b722e636f6d2f343037302f343731373336333934355f623733616664373861392e6a7067'\n",
    "img = PIL.Image.open(requests.get(url, stream=True).raw)\n",
    "rgb_test = np.array(img, dtype=np.float32) / 255.\n",
    "gray_test = cv2.cvtColor(rgb_test, cv2.COLOR_RGB2GRAY)\n",
    "\n",
    "plt.subplot(1, 2, 1)\n",
    "plt.imshow(rgb_test)\n",
    "plt.subplot(1, 2, 2)\n",
    "plt.imshow(gray_test)\n",
    "plt.show()"
   ]
  },
  {
   "cell_type": "markdown",
   "metadata": {},
   "source": [
    "Konvoluce má dva operandy: zdrojový signál (orbázek) a jádro (kernel) konvoluce, často označované také jako konvoluční filtr. Oba operandy si musí odpovídat svými rozměry. Pokud budeme uvažovat šedotónový obrázek reprezentovaný 2D maticí, filtr bude rovněž matice. RGB obrázky reprezentované 3D maticí $H × W × C$ budou konvolvovány s rovněž 3D filtrem o rozměrech $H' × W' × C$.\n",
    "\n",
    "Vyzkoušíme si dva typy filtrů řešící úlohu detekce hran Sobelovým filtrem a filtrace šumu pomocí průměrování."
   ]
  },
  {
   "cell_type": "code",
   "execution_count": null,
   "metadata": {
    "collapsed": true
   },
   "outputs": [],
   "source": [
    "W_sobel_x = np.array([\n",
    "    [1, 0, -1],\n",
    "    [2, 0, -2],\n",
    "    [1, 0, -1],\n",
    "])\n",
    "\n",
    "W_sobel_y = np.array([\n",
    "    [ 1,  2,  1],\n",
    "    [ 0,  0,  0],\n",
    "    [-1, -2, -1],\n",
    "])\n",
    "\n",
    "W_blur = 1. / 81. * np.ones((9, 9))"
   ]
  },
  {
   "cell_type": "markdown",
   "metadata": {},
   "source": [
    "## Konvoluce ve scipy\n",
    "\n",
    "Konvoluce v balíku `scipy.signal` bohužel zvládá pouze čistě 2D konvoluci, tzn. že jak obrázek, tak filtr musí být dvourozměrnhé matice. RGB orbázky nejsou podporovány a konvoluce tak musí být provedena pro každý kanál zvlášť. To zní jako příliš práce, a tak si zde ukážeme pouze podporovanou variantu."
   ]
  },
  {
   "cell_type": "code",
   "execution_count": null,
   "metadata": {
    "collapsed": true
   },
   "outputs": [],
   "source": [
    "from scipy import signal"
   ]
  },
  {
   "cell_type": "markdown",
   "metadata": {},
   "source": [
    "Následující kód projede všechny filtry, provede jejich konvoluci se vstupním obrázkem a výsledek zobrazí. Dělení 255 je zde kvůli převedení do rozsahu 0...1 a přetypování na `float`, aby nedocházelo k přetýkání."
   ]
  },
  {
   "cell_type": "code",
   "execution_count": null,
   "metadata": {},
   "outputs": [],
   "source": [
    "for i, kernel in enumerate((None, W_sobel_x, W_sobel_y, W_blur)):\n",
    "    if kernel is None:\n",
    "        # neni filtr --> neprovadej konvoluci = zobrazi se nezmeneny obrazek\n",
    "        out = gray_test\n",
    "    else:\n",
    "        # `mode='same'` --> vystup bude mit stejny rozmer jako vstup\n",
    "        # `boundary='fill', fillvalue=0.` --> tzv. zero padding, tj. nastavi obrazek nulami\n",
    "        out = signal.convolve2d(gray_test, kernel, mode='same', boundary='fill', fillvalue=0.)\n",
    "    plt.subplot(2, 2, i + 1)\n",
    "    plt.imshow(out)\n",
    "    plt.axis('off')\n",
    "plt.show()"
   ]
  },
  {
   "cell_type": "markdown",
   "metadata": {},
   "source": [
    "Všimněme si, jaký rozměr má výstup konvoluce:"
   ]
  },
  {
   "cell_type": "code",
   "execution_count": null,
   "metadata": {
    "scrolled": true
   },
   "outputs": [],
   "source": [
    "print(gray_test.shape)\n",
    "print(out.shape)"
   ]
  },
  {
   "cell_type": "markdown",
   "metadata": {},
   "source": [
    "## Konvoluce v OpenCV\n",
    "\n",
    "Populární knihovna OpenCV implementuje 2D konvoluci funkcí `cv2.filter2D`, která na rozdíl od `scipy.signal.convolve2d` podporuje i RGB obrázky. Pokud jako vstup zadáme RGB obrázek, tedy 3D matici, a 2D filtr, stane se přesně to, co bychom při použití `scipy.signal.convolve2d` museli dělat ručně, tj. konvoluce se provede pro každý kanál zvlášť."
   ]
  },
  {
   "cell_type": "code",
   "execution_count": null,
   "metadata": {},
   "outputs": [],
   "source": [
    "for i, kernel in enumerate((None, W_sobel_x, W_sobel_y, W_blur)):\n",
    "    if kernel is None:\n",
    "        # neni filtr --> neprovadej konvoluci = zobrazi se nezmeneny obrazek\n",
    "        out = rgb_test\n",
    "    else:\n",
    "        # defaultne ma vystup z `cv2.filter2D` stejne rozmery jako vstup\n",
    "        out = cv2.filter2D(rgb_test, -1, kernel)\n",
    "    plt.subplot(2, 2, i + 1)\n",
    "    plt.imshow((out - out.min()) / (out.max() - out.min() + 1e-6))\n",
    "    plt.axis('off')\n",
    "plt.show()"
   ]
  },
  {
   "cell_type": "markdown",
   "metadata": {},
   "source": [
    "Opět zkontrolujeme velikost výstupu:"
   ]
  },
  {
   "cell_type": "code",
   "execution_count": null,
   "metadata": {},
   "outputs": [],
   "source": [
    "print(rgb_test.shape)\n",
    "print(out.shape)"
   ]
  },
  {
   "cell_type": "markdown",
   "metadata": {},
   "source": [
    "# Konvoluce v PyTorch"
   ]
  },
  {
   "cell_type": "code",
   "execution_count": null,
   "metadata": {
    "collapsed": true
   },
   "outputs": [],
   "source": [
    "import torch\n",
    "from torch import nn\n",
    "import torch.nn.functional as F\n",
    "from torch.autograd import Variable"
   ]
  },
  {
   "cell_type": "markdown",
   "metadata": {},
   "source": [
    "Konvoluce v PyTorch je o něco obtížnější, protože framework je primárně určen pro učení neuronových sítí, ne k práci s obrázky. Vše je uzpůsobeno pro trénování metodou minibatch SGD, což znamená, že PyTorch očekává 4D vstup formátu `(dávka, kanály, výška, šířka)`. Pokud tedy chceme provést konvoluci s šedotónovým 2D obrázkem `gray_test`, musíme přidat dvě dimenze navíc. Kromě toho funkce pracují nad PyTorch tensory, nikoliv numpy poli, a je tedy nutná i konverze."
   ]
  },
  {
   "cell_type": "code",
   "execution_count": null,
   "metadata": {},
   "outputs": [],
   "source": [
    "x = gray_test\n",
    "x = torch.from_numpy(x[None, None])\n",
    "x.shape"
   ]
  },
  {
   "cell_type": "markdown",
   "metadata": {},
   "source": [
    "S filtrem je to také obtížnější. Ten musí být formátu `(výstupní kanály, vstupní kanály, filtr výška, filtr šířka)`. Opět tedy musíme kernel trochu upravit."
   ]
  },
  {
   "cell_type": "code",
   "execution_count": null,
   "metadata": {},
   "outputs": [],
   "source": [
    "w = W_sobel_x[None, None]\n",
    "w = torch.from_numpy(w).float()\n",
    "w.shape"
   ]
  },
  {
   "cell_type": "markdown",
   "metadata": {},
   "source": [
    "PyTorch definuje většinu operací v modulu `torch.nn.functional`, které pak obaluje vrstvami definovanými v modulu `torch.nn`. Pokud nechceme vytvářet vrstvu, ale pouze provést konvoluci nějakého vstupu a nějakého filtru, zavoláme funkci `conv2d`. Ta navíc vyžaduje, aby oba operandy byly typu `torch.autograd.Variable` a funkce tak mohla pracovat s dynamickým výpočetním grafem pro případný zpětný průchod."
   ]
  },
  {
   "cell_type": "code",
   "execution_count": null,
   "metadata": {
    "collapsed": true
   },
   "outputs": [],
   "source": [
    "# padding=1 --> hodnota 1 je zaokrouhlena polovina velikosti filtru --> zachova se velikost vstupu\n",
    "z = F.conv2d(Variable(x), Variable(w), padding=1)"
   ]
  },
  {
   "cell_type": "code",
   "execution_count": null,
   "metadata": {},
   "outputs": [],
   "source": [
    "print(x.shape)\n",
    "print(z.shape)"
   ]
  },
  {
   "cell_type": "code",
   "execution_count": null,
   "metadata": {},
   "outputs": [],
   "source": [
    "plt.subplot(1, 2, 1)\n",
    "plt.imshow(gray_test)\n",
    "plt.subplot(1, 2, 2)\n",
    "plt.imshow(z.data.numpy()[0, 0, :, :])\n",
    "plt.show()"
   ]
  },
  {
   "cell_type": "markdown",
   "metadata": {},
   "source": [
    "## Konvoluce RGB obrázku\n",
    "\n",
    "Vyzkoušíme si i 2D konvoluci RGB obrázku, která se chová jinak, než co jsme doposud zkoušeli. V PyTorch je 2D konvouce vícekanálových obrázků v podstatě 3D konvoluce s filtrem, který má v třetím rozměru odpovídajícímu kanálům stejnou velikost jako vstup (zatímco v $xy$ je např. $3×3$, přičemž obrázek např. $640×480$). Tedy např. pokud má obrázek 3 kanály, pak i filtr musí mít 3 kanály.\n",
    "\n",
    "Vstup tentokrát bude RGB. Připomeňme si, že v PyTorch je RGB obrázek reprezentován ve formátu `(kanály, výška, šířka)`."
   ]
  },
  {
   "cell_type": "code",
   "execution_count": null,
   "metadata": {},
   "outputs": [],
   "source": [
    "x = rgb_test\n",
    "x = x.transpose(2, 0, 1)\n",
    "x = torch.from_numpy(x[None])\n",
    "x.shape"
   ]
  },
  {
   "cell_type": "markdown",
   "metadata": {},
   "source": [
    "Pokud je vstup RGB, tedy 3D, pak i filtr musí být 3D."
   ]
  },
  {
   "cell_type": "code",
   "execution_count": null,
   "metadata": {},
   "outputs": [],
   "source": [
    "w = np.stack((W_sobel_x, W_sobel_x, W_sobel_x))[None]\n",
    "w = torch.from_numpy(w).float()\n",
    "w.shape"
   ]
  },
  {
   "cell_type": "code",
   "execution_count": null,
   "metadata": {
    "collapsed": true
   },
   "outputs": [],
   "source": [
    "# padding=1 --> hodnota 1 je zaokrouhlena polovina velikosti filtru --> zachova se velikost vstupu\n",
    "z = F.conv2d(Variable(x), Variable(w), padding=1)"
   ]
  },
  {
   "cell_type": "code",
   "execution_count": null,
   "metadata": {},
   "outputs": [],
   "source": [
    "print(x.shape)\n",
    "print(z.shape)"
   ]
  },
  {
   "cell_type": "markdown",
   "metadata": {},
   "source": [
    "Všimněme si, že výstup má pouze jeden kanál! To proto, že nedochází k sumaci pouze v $x$ a $y$, ale i v kanálech. A jelikož provádíme konvoluci pouze jedním Sobelovým filtrem, výstup má pouze jeden kanál."
   ]
  },
  {
   "cell_type": "code",
   "execution_count": null,
   "metadata": {},
   "outputs": [],
   "source": [
    "plt.subplot(1, 2, 1)\n",
    "plt.imshow(gray_test)\n",
    "plt.subplot(1, 2, 2)\n",
    "plt.imshow(z.data.numpy()[0, 0, :, :])\n",
    "plt.show()"
   ]
  },
  {
   "cell_type": "markdown",
   "metadata": {},
   "source": [
    "## Konvoluce po jednotlivých kanálech\n",
    "\n",
    "Jako cvičení k pochopení konvoluce nyní máte za úkol napodobit chování OpenCV, tj. udělat konvoluci RGB obrázku po jednotlivých kanálech."
   ]
  },
  {
   "cell_type": "code",
   "execution_count": null,
   "metadata": {
    "collapsed": true
   },
   "outputs": [],
   "source": [
    "out = np.zeros_like(rgb_test)\n",
    "..."
   ]
  },
  {
   "cell_type": "code",
   "execution_count": null,
   "metadata": {},
   "outputs": [],
   "source": [
    "plt.subplot(1, 2, 1)\n",
    "plt.imshow(rgb_test)\n",
    "plt.subplot(1, 2, 2)\n",
    "plt.imshow((out - out.min()) / (out.max() - out.min() + 1e-6))\n",
    "plt.show()"
   ]
  },
  {
   "cell_type": "markdown",
   "metadata": {},
   "source": [
    "## Konvoluce s více filtry najednou\n",
    "\n",
    "Druhé cvičení bude zreplikovat v PyTorch pokus, který jsme provedli se `scipy.signal.convolve2d`. **Proveďte tedy konvoluci vstupního šedotónového 2D obrázku se všemi čtyřmi (None, W_sobel_x, W_sobel_y, W_blur) filtry najednou!** Ano, i `None` filtr (tedy bez filtrace) zapište v maticové podobě. Omezení samozřejmě je, že všechny filtry musí být stejně velké, a tedy i průměrovací filtr musí být 3x3 a nestačí tak pouze vzít matici `W_blur`.\n",
    "\n",
    "Nesmíte tedy použít žádný for cyklus. Postup:\n",
    "1. vytvoříte vstup `x`,\n",
    "2. vytvoříte matici filtrů `w`,\n",
    "3. zavoláte `z = F.conv2d(...)`,\n",
    "4. převedete do numpy,\n",
    "5. a zobrazíte jednotlivé kanály subplotem jako obvykle"
   ]
  },
  {
   "cell_type": "code",
   "execution_count": null,
   "metadata": {
    "collapsed": true
   },
   "outputs": [],
   "source": [
    "x = ...\n",
    "x.shape"
   ]
  },
  {
   "cell_type": "code",
   "execution_count": null,
   "metadata": {},
   "outputs": [],
   "source": [
    "w = ...\n",
    "w.shape"
   ]
  },
  {
   "cell_type": "code",
   "execution_count": null,
   "metadata": {},
   "outputs": [],
   "source": [
    "z = F.conv2d(...)\n",
    "z.shape"
   ]
  },
  {
   "cell_type": "code",
   "execution_count": null,
   "metadata": {},
   "outputs": [],
   "source": [
    "out = z.data.numpy().squeeze()\n",
    "out.shape"
   ]
  },
  {
   "cell_type": "code",
   "execution_count": null,
   "metadata": {},
   "outputs": [],
   "source": [
    "# pro kazdy kanal vystupu zobrazit v subplotu 2x2 jako nahore\n",
    "# ...\n",
    "plt.show()"
   ]
  },
  {
   "cell_type": "markdown",
   "metadata": {},
   "source": [
    "## Konvoluce v PyTorch pomocí vrstvy\n",
    "\n",
    "V PyTorch je konvoluce definována i jako vrstva, kterou reprezentuje třída `nn.Conv2d`. Ta obaluje funkci `torch.nn.functional.conv2d` tak, že si uchovává parametry `weight`, `bias` a další. V implementaci dopředného průchodu vrstvy `nn.Conv2d` najdeme:\n",
    "\n",
    "``` python\n",
    "class Conv2d(_ConvNd):\n",
    "    r\"\"\"Applies a 2D convolution over an input signal composed of several input\n",
    "    planes.    \n",
    "    ...\n",
    "    \"\"\"\n",
    "    def __init__(self, in_channels, out_channels, kernel_size, stride=1,\n",
    "                 padding=0, dilation=1, groups=1, bias=True):\n",
    "        ... inicializace apod.\n",
    "    \n",
    "    def forward(self, input):\n",
    "        return F.conv2d(input, self.weight, self.bias, self.stride, \n",
    "            self.padding, self.dilation, self.groups\n",
    "```\n",
    "\n",
    "Podobně jsou definovány i ostatní vrstvy, jako např. lineární atd.\n",
    "\n",
    "Konvoluční vrstvu vytvoříme jako objekt typu `nn.Conv2d`, jehož kontruktor po nás chce počet výstupních kanálů konvoluce (=počet filtrů), počet vstupních kanálů (=3 pro RGB), velikost filtru (=3 pro filtr 3x3), a zda chceme přičítat i bias."
   ]
  },
  {
   "cell_type": "code",
   "execution_count": null,
   "metadata": {
    "collapsed": true
   },
   "outputs": [],
   "source": [
    "conv = nn.Conv2d(1, 1, 3, padding=1, bias=False)"
   ]
  },
  {
   "cell_type": "markdown",
   "metadata": {},
   "source": [
    "Jelikož PyTorch všechny vrstvy při vytvoření defaultně inicializuje, manuální nastavení vah filtru je trochu krkolomnější. Vlastní hodnoty musíme zapsat do `conv.weight.data` metodou `copy_`. Filtry alespoň nemusí mít naprosto stejné rozměry, pokud je váhová matice `conv.weight.data` 4D a `W_sobel_x` 2D, chybějící sigletony si PyTorch domyslí."
   ]
  },
  {
   "cell_type": "code",
   "execution_count": null,
   "metadata": {
    "scrolled": true
   },
   "outputs": [],
   "source": [
    "conv.weight.data.copy_(torch.from_numpy(W_sobel_x).float())"
   ]
  },
  {
   "cell_type": "markdown",
   "metadata": {},
   "source": [
    "Dopředný průchod je pak už jednoduchý..."
   ]
  },
  {
   "cell_type": "code",
   "execution_count": null,
   "metadata": {},
   "outputs": [],
   "source": [
    "z = conv(Variable(x))\n",
    "z.shape"
   ]
  },
  {
   "cell_type": "code",
   "execution_count": null,
   "metadata": {
    "collapsed": true
   },
   "outputs": [],
   "source": [
    "out = z.data.numpy().squeeze()"
   ]
  },
  {
   "cell_type": "code",
   "execution_count": null,
   "metadata": {},
   "outputs": [],
   "source": [
    "plt.subplot(1, 2, 1)\n",
    "plt.imshow(rgb_test)\n",
    "plt.subplot(1, 2, 2)\n",
    "plt.imshow((out - out.min()) / (out.max() - out.min() + 1e-6))\n",
    "plt.show()"
   ]
  },
  {
   "cell_type": "markdown",
   "metadata": {},
   "source": [
    "## 2D max pooling\n",
    "\n",
    "Jak jsme si ukazovali na přednášce, konvoluce v neurosítích se obvykle používá ve spojení s max poolingem, který na na každém typicky např. 2x2 okně počítá maximum. Na rozdíl od konvoluce se okénka typicky nepřekrývají a výstup je tedy menší než vstup, např. poloviční pro 2x2 max pool okénko."
   ]
  },
  {
   "cell_type": "code",
   "execution_count": null,
   "metadata": {},
   "outputs": [],
   "source": [
    "q = F.max_pool2d(z, 2)\n",
    "q.shape"
   ]
  },
  {
   "cell_type": "code",
   "execution_count": null,
   "metadata": {},
   "outputs": [],
   "source": [
    "mpo = q.data.numpy().squeeze()\n",
    "mpo.shape"
   ]
  },
  {
   "cell_type": "code",
   "execution_count": null,
   "metadata": {},
   "outputs": [],
   "source": [
    "plt.subplot(1, 2, 1)\n",
    "plt.imshow(rgb_test)\n",
    "plt.subplot(1, 2, 2)\n",
    "plt.imshow((mpo - mpo.min()) / (mpo.max() - mpo.min() + 1e-6))\n",
    "plt.show()"
   ]
  },
  {
   "cell_type": "markdown",
   "metadata": {},
   "source": [
    "# Trénování konvoluční sítě v PyTorch\n",
    "\n",
    "Trénování sítě s konvolučními vrstvami bude probíhat úplně stejně jako v minulých cvičeních, tj. metodou SGD. Jediným rozdílem, který je však k celé proceduře transparentní, bude jiná architektura sítě, která bude mít místo lineárních vrstev i konvoluční.\n",
    "\n",
    "Dále již tedy jen s velmi stručnými komentáři, protože v principu se od minula nic nemění."
   ]
  },
  {
   "cell_type": "markdown",
   "metadata": {},
   "source": [
    "## Načtení CIFAR10"
   ]
  },
  {
   "cell_type": "code",
   "execution_count": null,
   "metadata": {
    "collapsed": true
   },
   "outputs": [],
   "source": [
    "from torchvision import datasets\n",
    "from torchvision import transforms"
   ]
  },
  {
   "cell_type": "code",
   "execution_count": null,
   "metadata": {},
   "outputs": [],
   "source": [
    "trainset = datasets.CIFAR10(root='./data', train=True, download=True)\n",
    "testset = datasets.CIFAR10(root='./data', train=False, download=True)\n",
    "\n",
    "X_train = trainset.train_data\n",
    "y_train = np.array(trainset.train_labels, dtype=np.int64)\n",
    "X_test = testset.test_data\n",
    "y_test = np.array(testset.test_labels, dtype=np.int64)\n",
    "\n",
    "print(type(X_train), X_train.shape, X_train.dtype)\n",
    "print(type(y_train), y_train.shape, y_train.dtype)\n",
    "print(type(X_test), X_test.shape, X_test.dtype)\n",
    "print(type(y_test), y_test.shape, y_test.dtype)\n",
    "\n",
    "classes = ['airplane', 'automobile', 'bird', 'cat', 'deer', 'dog', 'frog', 'horse', 'ship', 'truck']\n",
    "num_train, num_test = X_train.shape[0], X_train.shape[0]\n",
    "x_dim = X_train.shape[1] * X_train.shape[2] * X_train.shape[3]"
   ]
  },
  {
   "cell_type": "code",
   "execution_count": null,
   "metadata": {},
   "outputs": [],
   "source": [
    "for i, cls in enumerate(classes):\n",
    "    cls_ids, = np.where(y_train == i)\n",
    "    draw_ids = np.random.choice(cls_ids, size=10)\n",
    "    \n",
    "    for j, k in enumerate(draw_ids):\n",
    "        plt.subplot(10, 10, j * 10 + i + 1)\n",
    "        plt.imshow(X_train[k])\n",
    "        plt.axis('off')\n",
    "        if j == 0:\n",
    "            plt.title(cls)\n",
    "plt.show()"
   ]
  },
  {
   "cell_type": "markdown",
   "metadata": {},
   "source": [
    "## Preprocessing\n",
    "\n"
   ]
  },
  {
   "cell_type": "code",
   "execution_count": null,
   "metadata": {
    "collapsed": true
   },
   "outputs": [],
   "source": [
    "def preprocess(rgb_batch, resize=None):\n",
    "    if isinstance(resize, tuple):\n",
    "        rgb_batch = [cv2.resize(rgb, (32, 32)) for rgb in rgb_batch]\n",
    "    X = np.array(rgb_batch, dtype=np.float32) / 255.\n",
    "    m = np.mean(X, axis=(1, 2))\n",
    "    X -= m[:, None, None, :]\n",
    "    \n",
    "    # pracujeme s obrazky --> je nutne transponovat na torch format\n",
    "    X = X.transpose(0, 3, 1, 2)\n",
    "    \n",
    "    return X"
   ]
  },
  {
   "cell_type": "markdown",
   "metadata": {},
   "source": [
    "## Definice konvoluční sítě"
   ]
  },
  {
   "cell_type": "code",
   "execution_count": null,
   "metadata": {
    "collapsed": true
   },
   "outputs": [],
   "source": [
    "CUDA = True"
   ]
  },
  {
   "cell_type": "code",
   "execution_count": null,
   "metadata": {
    "collapsed": true
   },
   "outputs": [],
   "source": [
    "class ConvNet(nn.Module):\n",
    "    def __init__(self, input_shape=X_train.shape[1:3], output_dim=len(classes)):\n",
    "        super().__init__()\n",
    "        \n",
    "        h, w = input_shape\n",
    "        \n",
    "        # definice konvolucni vrstvy\n",
    "        self.conv1 = nn.Conv2d(3, 16, 3, padding=1)\n",
    "        \n",
    "        # prvni vrstva udelana tak, aby zachovala xy rozmery (padding=1)\n",
    "        # po vrstve ve forward metode aplikujeme 2d max pooling\n",
    "        # linearni proto bude mit vstup velky `h/2 * w/2 * 32`\n",
    "        # vystup (pocet skrytych bunek) si zvolime 200\n",
    "        self.fc2 = nn.Linear(h // 2 * w // 2 * 32, 200)\n",
    "        \n",
    "        # posledni klasifikacni vrstva\n",
    "        self.fc3 = nn.Linear(200, output_dim)\n",
    "        \n",
    "        if CUDA:\n",
    "            self.cuda()\n",
    "    \n",
    "    def forward(self, x):\n",
    "        # konvolucni vrstva <-- toto je tu od minula navic\n",
    "        z = F.relu(self.conv1(x))\n",
    "        \n",
    "        # max pooling s velikosti okna a krokem 2\n",
    "        z = F.max_pool2d(z, 2)\n",
    "        \n",
    "        # z je nyni 64-kanalovy obrazek; pro pouziti a klasifikaci\n",
    "        # linearni vrstvou prevedeme na vektor\n",
    "        z = z.view(z.shape[0], -1)\n",
    "        \n",
    "        # jako minule, dve linearni vrstvy, mezi kterymi je ReLU\n",
    "        z = F.relu(self.fc2(z))\n",
    "        z = self.fc3(z)\n",
    "        \n",
    "        return z"
   ]
  },
  {
   "cell_type": "code",
   "execution_count": null,
   "metadata": {
    "collapsed": true
   },
   "outputs": [],
   "source": [
    "convnet = ConvNet()\n",
    "\n",
    "cnn_history = []"
   ]
  },
  {
   "cell_type": "code",
   "execution_count": null,
   "metadata": {},
   "outputs": [],
   "source": [
    "print(convnet)"
   ]
  },
  {
   "cell_type": "code",
   "execution_count": null,
   "metadata": {
    "scrolled": false
   },
   "outputs": [],
   "source": [
    "for name, par in convnet.named_parameters():\n",
    "    print(name, par.shape, par.numel())"
   ]
  },
  {
   "cell_type": "markdown",
   "metadata": {},
   "source": [
    "Všimněme si počtu parametrů v konvoluční vrstvě v porovnání s lineární. Toto je jeden z důvodů, proč se lineární vrstvy označují jako fully connected, jelikož každá z výstupních buněk je napojena na každou ze vstupních. To pak samozřejmě vede na velký počet spojení (=vah). Počet parametrů konvoluce závisí pouze na velikosti a počtu filtrů a na počtu kanálů vstupu, nikoliv však na velikosti v $x$ a $y$ směrech. Váhy jsou při projíždění orbázku sdílené a proto je parametrů mnohem méně."
   ]
  },
  {
   "cell_type": "markdown",
   "metadata": {},
   "source": [
    "### Trénování a validace"
   ]
  },
  {
   "cell_type": "code",
   "execution_count": null,
   "metadata": {
    "collapsed": true
   },
   "outputs": [],
   "source": [
    "def train(model, loss_func, optimizer, X_data, y_data, prep_fn=None, batch_size=20, history_output=None, num_iters=None,\n",
    "          print_every=500, permute=True):\n",
    "    ..."
   ]
  },
  {
   "cell_type": "code",
   "execution_count": null,
   "metadata": {
    "collapsed": true
   },
   "outputs": [],
   "source": [
    "def validate(model, X_data, y_data, prep_fn=None, batch_size=20, history_output=None, print_every=100):\n",
    "    ..."
   ]
  },
  {
   "cell_type": "code",
   "execution_count": null,
   "metadata": {
    "collapsed": true
   },
   "outputs": [],
   "source": [
    "def plot_history(history):\n",
    "    colors = plt.rcParams['axes.prop_cycle'].by_key()['color']\n",
    "    \n",
    "    plt.figure(figsize=(10, 3))\n",
    "    for mi, metric in enumerate(('loss', 'acc')):\n",
    "        plt.subplot(1, 2, mi + 1)\n",
    "        \n",
    "        last = 0.\n",
    "        trn_data, val_data = [], []\n",
    "        for h in history:\n",
    "            trn_data.append(np.mean(h[metric]))\n",
    "            val_data.append(np.mean(h['val_' + metric]) if h.get('val_' + metric) else last)\n",
    "            last = val_data[-1]\n",
    "        \n",
    "        plt.plot(trn_data)\n",
    "        plt.plot(val_data)\n",
    "        \n",
    "        plt.ylabel(metric)\n",
    "    \n",
    "    plt.show()"
   ]
  },
  {
   "cell_type": "code",
   "execution_count": null,
   "metadata": {
    "collapsed": true
   },
   "outputs": [],
   "source": [
    "from torch import optim"
   ]
  },
  {
   "cell_type": "code",
   "execution_count": null,
   "metadata": {
    "collapsed": true
   },
   "outputs": [],
   "source": [
    "loss_func = nn.CrossEntropyLoss()\n",
    "optimizer = optim.SGD(convnet.parameters(), lr=0.01)"
   ]
  },
  {
   "cell_type": "code",
   "execution_count": null,
   "metadata": {
    "scrolled": true
   },
   "outputs": [],
   "source": [
    "%%time\n",
    "for ep in range(10):\n",
    "    train(...)\n",
    "    validate(...)"
   ]
  },
  {
   "cell_type": "code",
   "execution_count": null,
   "metadata": {
    "scrolled": true
   },
   "outputs": [],
   "source": [
    "plot_history(cnn_history)"
   ]
  },
  {
   "cell_type": "markdown",
   "metadata": {},
   "source": [
    "# Predikce"
   ]
  },
  {
   "cell_type": "code",
   "execution_count": null,
   "metadata": {
    "collapsed": true
   },
   "outputs": [],
   "source": [
    "def predict_and_show(model, rgb):\n",
    "    x = preprocess([rgb], resize=(32, 32))\n",
    "    x = Variable(torch.from_numpy(x))\n",
    "    if CUDA:\n",
    "        x = x.cuda()\n",
    "    \n",
    "    score = model(x).data.cpu().numpy().ravel()\n",
    "    prob = np.exp(score) / np.sum(np.exp(score))\n",
    "            \n",
    "    plt.figure(figsize=(5, 5))\n",
    "    plt.imshow(rgb)\n",
    "    ids = np.argsort(-score)\n",
    "    for i, ci in enumerate(ids):\n",
    "        plt.gcf().text(1., 0.8 - 0.075 * i, '{}: {:.2f} %'.format(classes[ci], 100. * prob[ci]), fontsize=24)\n",
    "    plt.subplots_adjust()\n",
    "    plt.show()\n",
    "    \n",
    "    return ids[0]"
   ]
  },
  {
   "cell_type": "code",
   "execution_count": null,
   "metadata": {},
   "outputs": [],
   "source": [
    "predict_and_show(convnet, np.array(img))"
   ]
  },
  {
   "cell_type": "markdown",
   "metadata": {},
   "source": [
    "# Trénování konvoluční sítě\n",
    "\n",
    "Zde je opět prostor pro vaši kreativitu. Natrénujte co nejlepší konvoluční síť, která dosáhne max. možného skóre. Kdo si trochu pohraje, měl by se dostat i přes 80&nbsp;%. Min. validační skóre pro uznání úlohy je 60&nbsp;%."
   ]
  },
  {
   "cell_type": "code",
   "execution_count": null,
   "metadata": {
    "collapsed": true
   },
   "outputs": [],
   "source": []
  }
 ],
 "metadata": {
  "kernelspec": {
   "display_name": "Python 3",
   "language": "python",
   "name": "python3"
  },
  "language_info": {
   "codemirror_mode": {
    "name": "ipython",
    "version": 3
   },
   "file_extension": ".py",
   "mimetype": "text/x-python",
   "name": "python",
   "nbconvert_exporter": "python",
   "pygments_lexer": "ipython3",
   "version": "3.6.2"
  }
 },
 "nbformat": 4,
 "nbformat_minor": 2
}
